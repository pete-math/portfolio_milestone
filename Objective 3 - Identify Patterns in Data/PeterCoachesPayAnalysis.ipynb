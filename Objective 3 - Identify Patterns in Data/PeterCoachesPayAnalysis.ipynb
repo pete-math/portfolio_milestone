{
  "nbformat": 4,
  "nbformat_minor": 0,
  "metadata": {
    "colab": {
      "name": "PeterCoachesModified_v1.ipynb",
      "provenance": [],
      "collapsed_sections": [],
      "toc_visible": true
    },
    "kernelspec": {
      "display_name": "Python 3",
      "language": "python",
      "name": "python3"
    },
    "language_info": {
      "codemirror_mode": {
        "name": "ipython",
        "version": 3
      },
      "file_extension": ".py",
      "mimetype": "text/x-python",
      "name": "python",
      "nbconvert_exporter": "python",
      "pygments_lexer": "ipython3",
      "version": "3.6.5"
    }
  },
  "cells": [
    {
      "cell_type": "markdown",
      "metadata": {
        "id": "FnZrZtrvkZSO",
        "colab_type": "text"
      },
      "source": [
        "\n",
        "\n",
        "# Import Packages\n",
        "\n",
        "\n"
      ]
    },
    {
      "cell_type": "code",
      "metadata": {
        "colab_type": "code",
        "id": "zaICl3zVbWa_",
        "colab": {}
      },
      "source": [
        "#import initial packages for modeling\n",
        "import pandas as pd\n",
        "import numpy as np \n",
        "import re\n",
        "import matplotlib.pyplot as plt\n",
        "import seaborn as sns\n",
        "%matplotlib inline"
      ],
      "execution_count": 0,
      "outputs": []
    },
    {
      "cell_type": "code",
      "metadata": {
        "id": "Q7hIhr0B85NQ",
        "colab_type": "code",
        "colab": {}
      },
      "source": [
        ""
      ],
      "execution_count": 0,
      "outputs": []
    },
    {
      "cell_type": "markdown",
      "metadata": {
        "id": "JV5hNqQolJNL",
        "colab_type": "text"
      },
      "source": [
        "# Obtain the Data"
      ]
    },
    {
      "cell_type": "code",
      "metadata": {
        "colab_type": "code",
        "id": "QBO77RtuG7US",
        "colab": {}
      },
      "source": [
        "#functions\n",
        "\n",
        "#read in csv file\n",
        "def load_csv_file(f):\n",
        "  return pd.read_csv(f)"
      ],
      "execution_count": 0,
      "outputs": []
    },
    {
      "cell_type": "code",
      "metadata": {
        "colab_type": "code",
        "id": "pzim_MbpG9I7",
        "colab": {}
      },
      "source": [
        "#import source files\n",
        "coaches = load_csv_file(\"Coaches9.csv\")\n",
        "coach_record = load_csv_file(\"coach_win_percentage.csv\")\n",
        "power_index = load_csv_file(\"fsb_power_index_rank_2019.csv\")\n",
        "grad_rates = load_csv_file(\"grad_rates_with_abbr.csv\")\n",
        "team_lookup = load_csv_file(\"teams_lookup.csv\")\n",
        "stadiums = load_csv_file(\"stadiums.csv\")\n",
        "in_nfl = load_csv_file(\"in_the_nfl.csv\")\n",
        "\n",
        "\n"
      ],
      "execution_count": 0,
      "outputs": []
    },
    {
      "cell_type": "markdown",
      "metadata": {
        "id": "cFRIXEA5mIpx",
        "colab_type": "text"
      },
      "source": [
        "# Scrub the Data"
      ]
    },
    {
      "cell_type": "code",
      "metadata": {
        "id": "0K6Waor_l-xS",
        "colab_type": "code",
        "colab": {}
      },
      "source": [
        "#functions\n",
        "#quickly examine a dataframe's contents\n",
        "def examine_df(df):\n",
        "  print('\\n Head:')\n",
        "  print(df.tail(10).to_string())\n",
        "  print('\\n Tail:')\n",
        "  print(df.head(10).to_string())\n",
        "  print('\\n Info:')\n",
        "  print(df.info())\n",
        "  print('\\n Describe:')\n",
        "  print(df.describe())\n",
        "  print('Shape:')\n",
        "  print(df.shape)\n",
        "  print('\\n Any Null:')\n",
        "  print(df.isnull().any())\n",
        "  print('\\n Show Counts:')\n",
        "  print(df.count())\n",
        "\n",
        "#columns to lower\n",
        "def set_lowercase_df(df):\n",
        "     return df.columns.str.lower()\n",
        "\n",
        "#remove special chars from numeric columns and set type to int\n",
        "def scrub_numeric_cols(df,cols):\n",
        "    for col in cols:\n",
        "        df[col] = df[col].replace('[$,+]', '', regex=True)\n",
        "        df[col] = df[col].replace('[--]', '0', regex=True)\n",
        "        df[col] = pd.to_numeric(df[col], errors = 'coerce')\n",
        "    return df\n"
      ],
      "execution_count": 0,
      "outputs": []
    },
    {
      "cell_type": "code",
      "metadata": {
        "id": "4nl-3f7eoNcC",
        "colab_type": "code",
        "colab": {}
      },
      "source": [
        "# coaches\n",
        "\n",
        "#view data frames contents - commented out for readability\n",
        "#examine_df(coaches)\n",
        "\n",
        "# change column names to lowercase.\n",
        "coaches.columns = set_lowercase_df(coaches)\n",
        "\n",
        "# fix columns that should be numeric but include special characters or are not properly formatted.\n",
        "cols = [\"schoolpay\",\"totalpay\",\"bonus\",\"bonuspaid\"]\n",
        "coaches = scrub_numeric_cols(coaches,cols)\n"
      ],
      "execution_count": 0,
      "outputs": []
    },
    {
      "cell_type": "code",
      "metadata": {
        "id": "VgsSyazgoNG7",
        "colab_type": "code",
        "colab": {}
      },
      "source": [
        "#coach record\n",
        "\n",
        "# change column names to lowercase.\n",
        "coach_record.columns = set_lowercase_df(coach_record)\n",
        "\n",
        "# examine_df(coach_record)\n"
      ],
      "execution_count": 0,
      "outputs": []
    },
    {
      "cell_type": "code",
      "metadata": {
        "colab_type": "code",
        "id": "CJAJuF1NG9xx",
        "outputId": "21bcc73a-00fa-461e-b074-45cbbb18671f",
        "colab": {
          "base_uri": "https://localhost:8080/",
          "height": 119
        }
      },
      "source": [
        "\n",
        "#power index\n",
        "\n",
        "# change column names to lowercase.\n",
        "power_index.columns = set_lowercase_df(power_index)\n",
        "\n",
        "power_index = power_index.rename(columns={'team':'school'})\n",
        "print(power_index.head(5).to_string())\n",
        "\n",
        "# examine_df(coach_rank)"
      ],
      "execution_count": 168,
      "outputs": [
        {
          "output_type": "stream",
          "text": [
            "       school    conf   fpi  rank  efficiency\n",
            "0   Air Force      MW   7.3     2        70.9\n",
            "1       Akron     MAC -28.6     5         4.2\n",
            "2     Alabama     SEC  29.4     1        92.7\n",
            "3  Miami (FL)     ACC   5.4     3        54.2\n",
            "4     Arizona  Pac-12  -2.4     4        41.5\n"
          ],
          "name": "stdout"
        }
      ]
    },
    {
      "cell_type": "code",
      "metadata": {
        "id": "DhoIW80zqwfw",
        "colab_type": "code",
        "colab": {
          "base_uri": "https://localhost:8080/",
          "height": 204
        },
        "outputId": "d2ec769c-1368-4723-b0ce-8fe943ff9610"
      },
      "source": [
        "#graduation rates\n",
        "\n",
        "# change column names to lowercase.\n",
        "grad_rates.columns = set_lowercase_df(grad_rates)\n",
        "\n",
        "#select columns\n",
        "cols = [\"school_abbr\",\"gsr\",\"fgr\"]\n",
        "grad_rates2 = grad_rates[cols]\n",
        "\n",
        "#rename columns\n",
        "grad_rates2 = grad_rates2.rename(columns={'school_abbr':'school'})\n",
        "grad_rates2.head()\n",
        "\n",
        "#mean values when a school has multiple grad rates maybe because of different instances in the same city\n",
        "#grad_rates2.dropna(inplace=True)\n",
        "#grad_rates2 = grad_rates2.groupby(['school'])['gsr','fgr'].mean()\n",
        "\n",
        "# examine_df(grad_rates)"
      ],
      "execution_count": 169,
      "outputs": [
        {
          "output_type": "execute_result",
          "data": {
            "text/html": [
              "<div>\n",
              "<style scoped>\n",
              "    .dataframe tbody tr th:only-of-type {\n",
              "        vertical-align: middle;\n",
              "    }\n",
              "\n",
              "    .dataframe tbody tr th {\n",
              "        vertical-align: top;\n",
              "    }\n",
              "\n",
              "    .dataframe thead th {\n",
              "        text-align: right;\n",
              "    }\n",
              "</style>\n",
              "<table border=\"1\" class=\"dataframe\">\n",
              "  <thead>\n",
              "    <tr style=\"text-align: right;\">\n",
              "      <th></th>\n",
              "      <th>school</th>\n",
              "      <th>gsr</th>\n",
              "      <th>fgr</th>\n",
              "    </tr>\n",
              "  </thead>\n",
              "  <tbody>\n",
              "    <tr>\n",
              "      <th>0</th>\n",
              "      <td>Akron</td>\n",
              "      <td>75.0</td>\n",
              "      <td>61.0</td>\n",
              "    </tr>\n",
              "    <tr>\n",
              "      <th>1</th>\n",
              "      <td>Alabama</td>\n",
              "      <td>85.0</td>\n",
              "      <td>65.0</td>\n",
              "    </tr>\n",
              "    <tr>\n",
              "      <th>2</th>\n",
              "      <td>Appalachian State</td>\n",
              "      <td>75.0</td>\n",
              "      <td>67.0</td>\n",
              "    </tr>\n",
              "    <tr>\n",
              "      <th>3</th>\n",
              "      <td>Arizona</td>\n",
              "      <td>75.0</td>\n",
              "      <td>60.0</td>\n",
              "    </tr>\n",
              "    <tr>\n",
              "      <th>4</th>\n",
              "      <td>Arizona State</td>\n",
              "      <td>76.0</td>\n",
              "      <td>58.0</td>\n",
              "    </tr>\n",
              "  </tbody>\n",
              "</table>\n",
              "</div>"
            ],
            "text/plain": [
              "              school   gsr   fgr\n",
              "0              Akron  75.0  61.0\n",
              "1            Alabama  85.0  65.0\n",
              "2  Appalachian State  75.0  67.0\n",
              "3            Arizona  75.0  60.0\n",
              "4      Arizona State  76.0  58.0"
            ]
          },
          "metadata": {
            "tags": []
          },
          "execution_count": 169
        }
      ]
    },
    {
      "cell_type": "code",
      "metadata": {
        "id": "UnswefSvq4mI",
        "colab_type": "code",
        "outputId": "cfe55a22-0f1e-41ce-d447-d224c4d5769a",
        "colab": {
          "base_uri": "https://localhost:8080/",
          "height": 204
        }
      },
      "source": [
        "#team column lookups\n",
        "# change column names to lowercase.\n",
        "team_lookup.columns = set_lowercase_df(team_lookup)\n",
        "team_lookup = team_lookup.rename(columns={'team':'school'})\n",
        "team_lookup.head()\n",
        "\n",
        "# examine_df(team_lookup)"
      ],
      "execution_count": 170,
      "outputs": [
        {
          "output_type": "execute_result",
          "data": {
            "text/html": [
              "<div>\n",
              "<style scoped>\n",
              "    .dataframe tbody tr th:only-of-type {\n",
              "        vertical-align: middle;\n",
              "    }\n",
              "\n",
              "    .dataframe tbody tr th {\n",
              "        vertical-align: top;\n",
              "    }\n",
              "\n",
              "    .dataframe thead th {\n",
              "        text-align: right;\n",
              "    }\n",
              "</style>\n",
              "<table border=\"1\" class=\"dataframe\">\n",
              "  <thead>\n",
              "    <tr style=\"text-align: right;\">\n",
              "      <th></th>\n",
              "      <th>school</th>\n",
              "      <th>nickname</th>\n",
              "      <th>city</th>\n",
              "      <th>state</th>\n",
              "      <th>conference</th>\n",
              "      <th>team_w_nickname</th>\n",
              "    </tr>\n",
              "  </thead>\n",
              "  <tbody>\n",
              "    <tr>\n",
              "      <th>0</th>\n",
              "      <td>Air Force</td>\n",
              "      <td>Falcons</td>\n",
              "      <td>Colorado Springs</td>\n",
              "      <td>Colorado</td>\n",
              "      <td>Mountain West</td>\n",
              "      <td>Air Force Falcons</td>\n",
              "    </tr>\n",
              "    <tr>\n",
              "      <th>1</th>\n",
              "      <td>Akron</td>\n",
              "      <td>Zips</td>\n",
              "      <td>Akron</td>\n",
              "      <td>Ohio</td>\n",
              "      <td>MAC</td>\n",
              "      <td>Akron Zips</td>\n",
              "    </tr>\n",
              "    <tr>\n",
              "      <th>2</th>\n",
              "      <td>Alabama</td>\n",
              "      <td>Crimson Tide</td>\n",
              "      <td>Tuscaloosa</td>\n",
              "      <td>Alabama</td>\n",
              "      <td>SEC</td>\n",
              "      <td>Alabama Crimson Tide</td>\n",
              "    </tr>\n",
              "    <tr>\n",
              "      <th>3</th>\n",
              "      <td>Appalachian State</td>\n",
              "      <td>Mountaineers</td>\n",
              "      <td>Boone</td>\n",
              "      <td>North Carolina</td>\n",
              "      <td>Sun Belt</td>\n",
              "      <td>Appalachian State Mountaineers</td>\n",
              "    </tr>\n",
              "    <tr>\n",
              "      <th>4</th>\n",
              "      <td>Arizona</td>\n",
              "      <td>Wildcats</td>\n",
              "      <td>Tucson</td>\n",
              "      <td>Arizona</td>\n",
              "      <td>Pac-12</td>\n",
              "      <td>Arizona Wildcats</td>\n",
              "    </tr>\n",
              "  </tbody>\n",
              "</table>\n",
              "</div>"
            ],
            "text/plain": [
              "              school  ...                 team_w_nickname\n",
              "0          Air Force  ...               Air Force Falcons\n",
              "1              Akron  ...                      Akron Zips\n",
              "2            Alabama  ...            Alabama Crimson Tide\n",
              "3  Appalachian State  ...  Appalachian State Mountaineers\n",
              "4            Arizona  ...                Arizona Wildcats\n",
              "\n",
              "[5 rows x 6 columns]"
            ]
          },
          "metadata": {
            "tags": []
          },
          "execution_count": 170
        }
      ]
    },
    {
      "cell_type": "code",
      "metadata": {
        "id": "vvoE7NqTrRXa",
        "colab_type": "code",
        "colab": {}
      },
      "source": [
        "#stadium \n",
        "cols = [\"team\",\"capacity\",\"stadium\"]\n",
        "stadiums_df = stadiums[cols]\n",
        "stadiums_df = stadiums_df.rename(columns={'team':'school'})\n",
        "stadiums_df = scrub_numeric_cols(stadiums_df,['capacity'])\n",
        "stadiums_df.head()\n",
        "# stadiums.drop(columns='school',axis=1)\n",
        "stadiums_df.rename(columns={'school':'stdschool'},inplace=True)\n"
      ],
      "execution_count": 0,
      "outputs": []
    },
    {
      "cell_type": "markdown",
      "metadata": {
        "id": "7wwpYWYNFXHe",
        "colab_type": "text"
      },
      "source": [
        "# Merge the Data"
      ]
    },
    {
      "cell_type": "code",
      "metadata": {
        "id": "NtXejkMIx_C6",
        "colab_type": "code",
        "colab": {}
      },
      "source": [
        "# coach record\n",
        "#merge coach record w/ team lookup\n",
        "wins = pd.merge(coach_record,team_lookup, how=\"inner\", left_on=\"school\",right_on=\"team_w_nickname\")\n",
        "#subset wins\n",
        "cols = [\"school_y\",\"head coach\",\"first season\",\"years_w_team\",\"current_w\",\"current_l\",\"current_w_percentage\",\"career_w\",\"career_l\",\"career_games\",\"career_w_percentage\"]\n",
        "wins = wins[cols]"
      ],
      "execution_count": 0,
      "outputs": []
    },
    {
      "cell_type": "code",
      "metadata": {
        "id": "Ta2WpN9cvBuN",
        "colab_type": "code",
        "colab": {}
      },
      "source": [
        "#merge datasets\n",
        "\n",
        "#coachs with grad rates\n",
        "coach_ds = pd.merge(coaches,grad_rates2, how=\"left\", on=\"school\")\n",
        "#merge wins with coach w grad\n",
        "coach_ds = pd.merge(coach_ds,wins,how=\"inner\", left_on=\"school\",right_on=\"school_y\")\n",
        "# merge power index\n",
        "coach_ds = pd.merge(coach_ds,power_index, how=\"inner\",on=\"school\")\n",
        "#coach_ds.head()\n",
        "#merge stadium\n",
        "coach_ds = pd.merge(coach_ds,stadiums_df,how=\"left\",left_on=\"nnstadium\",right_on=\"stdschool\")\n",
        "coach_ds.columns\n",
        "#examine_df(coach_ds_all)\n",
        "coach_ds = pd.merge(coach_ds,in_nfl,how=\"inner\",on=\"school\")\n",
        "#subset \n",
        "cols = ['school', 'conference', 'coach', 'totalpay', 'gsr', 'fgr', 'years_w_team','current_w_percentage','career_games',\n",
        "        'career_w_percentage', 'conf', 'fpi', 'rank', 'efficiency','capacity','in_nfl_cnt', 'stadium']\n",
        "data = coach_ds[cols]\n",
        "#print(data.head(150).to_string())"
      ],
      "execution_count": 0,
      "outputs": []
    },
    {
      "cell_type": "code",
      "metadata": {
        "id": "CD_BqwZuEMK-",
        "colab_type": "code",
        "outputId": "9b07e7b5-a6ba-4e1d-f438-40752711d0f2",
        "colab": {
          "base_uri": "https://localhost:8080/",
          "height": 428
        }
      },
      "source": [
        "#clean up the data\n",
        "#set the grad rates to the mean for null values\n",
        "data['gsr'] = data['gsr'].fillna((data['gsr'].mean())).round()\n",
        "data['fgr'] = data['fgr'].fillna((data['fgr'].mean())).round()\n",
        "#drop rows with 0 set in totalpay\n",
        "dropIndex = data[ data['totalpay'] == 0 ].index\n",
        "data.drop(dropIndex , inplace=True)\n",
        "dropIndex = data[ data['capacity'] == 0 ].index\n",
        "data.drop(dropIndex , inplace=True)\n",
        "dropIndex = data[ data['current_w_percentage'] == 0 ].index\n",
        "data.drop(dropIndex , inplace=True)\n",
        "\n",
        "data['experience'] = data['career_games'] / 12\n",
        "\n",
        "#view all records - commented out for readability\n",
        "#print(data.head(150).to_string())\n"
      ],
      "execution_count": 174,
      "outputs": [
        {
          "output_type": "stream",
          "text": [
            "/usr/local/lib/python3.6/dist-packages/ipykernel_launcher.py:1: SettingWithCopyWarning: \n",
            "A value is trying to be set on a copy of a slice from a DataFrame.\n",
            "Try using .loc[row_indexer,col_indexer] = value instead\n",
            "\n",
            "See the caveats in the documentation: http://pandas.pydata.org/pandas-docs/stable/user_guide/indexing.html#returning-a-view-versus-a-copy\n",
            "  \"\"\"Entry point for launching an IPython kernel.\n",
            "/usr/local/lib/python3.6/dist-packages/ipykernel_launcher.py:2: SettingWithCopyWarning: \n",
            "A value is trying to be set on a copy of a slice from a DataFrame.\n",
            "Try using .loc[row_indexer,col_indexer] = value instead\n",
            "\n",
            "See the caveats in the documentation: http://pandas.pydata.org/pandas-docs/stable/user_guide/indexing.html#returning-a-view-versus-a-copy\n",
            "  \n",
            "/usr/local/lib/python3.6/dist-packages/pandas/core/frame.py:4117: SettingWithCopyWarning: \n",
            "A value is trying to be set on a copy of a slice from a DataFrame\n",
            "\n",
            "See the caveats in the documentation: http://pandas.pydata.org/pandas-docs/stable/user_guide/indexing.html#returning-a-view-versus-a-copy\n",
            "  errors=errors,\n",
            "/usr/local/lib/python3.6/dist-packages/ipykernel_launcher.py:11: SettingWithCopyWarning: \n",
            "A value is trying to be set on a copy of a slice from a DataFrame.\n",
            "Try using .loc[row_indexer,col_indexer] = value instead\n",
            "\n",
            "See the caveats in the documentation: http://pandas.pydata.org/pandas-docs/stable/user_guide/indexing.html#returning-a-view-versus-a-copy\n",
            "  # This is added back by InteractiveShellApp.init_path()\n"
          ],
          "name": "stderr"
        }
      ]
    },
    {
      "cell_type": "code",
      "metadata": {
        "id": "Q4Cfl7t5h8vA",
        "colab_type": "code",
        "outputId": "59d967f7-5a5a-4a04-c096-dd2c30f98fed",
        "colab": {
          "base_uri": "https://localhost:8080/",
          "height": 442
        }
      },
      "source": [
        "print(data.describe().to_string)\n",
        "print(str(data))"
      ],
      "execution_count": 175,
      "outputs": [
        {
          "output_type": "stream",
          "text": [
            "<bound method DataFrame.to_string of            totalpay         gsr  ...  in_nfl_cnt  experience\n",
            "count  1.140000e+02  114.000000  ...  114.000000  114.000000\n",
            "mean   2.507793e+06   80.271930  ...   11.359649    8.031433\n",
            "std    1.916242e+06    7.759989  ...   10.170343    6.454414\n",
            "min    4.000000e+05   54.000000  ...    1.000000    0.083333\n",
            "25%    8.037155e+05   76.000000  ...    4.000000    3.166667\n",
            "50%    2.000000e+06   79.000000  ...    9.000000    6.333333\n",
            "75%    3.738494e+06   86.000000  ...   15.000000   11.437500\n",
            "max    8.307000e+06  100.000000  ...   56.000000   31.583333\n",
            "\n",
            "[8 rows x 13 columns]>\n",
            "               school  ... experience\n",
            "0           Air Force  ...  13.916667\n",
            "2             Alabama  ...  25.666667\n",
            "3                 UCF  ...   2.166667\n",
            "6             Arizona  ...  12.750000\n",
            "7       Arizona State  ...   2.166667\n",
            "..                ...  ...        ...\n",
            "136  Coastal Carolina  ...   2.000000\n",
            "137     West Virginia  ...   5.250000\n",
            "138  Georgia Southern  ...   2.666667\n",
            "139         Wisconsin  ...   8.833333\n",
            "140           Wyoming  ...   6.333333\n",
            "\n",
            "[114 rows x 18 columns]\n"
          ],
          "name": "stdout"
        }
      ]
    },
    {
      "cell_type": "markdown",
      "metadata": {
        "id": "xSGGLCxLvDwo",
        "colab_type": "text"
      },
      "source": [
        "# **Feature Engineering**\n",
        "Set Rank and Conf features to categorical variables"
      ]
    },
    {
      "cell_type": "code",
      "metadata": {
        "id": "X_94Nup2QAl1",
        "colab_type": "code",
        "colab": {
          "base_uri": "https://localhost:8080/",
          "height": 139
        },
        "outputId": "ad8b3383-0300-48ea-c8e8-b3defeb20caa"
      },
      "source": [
        "#tranform rank and conference to categorical vars \n",
        "from sklearn.preprocessing import LabelEncoder\n",
        "le = LabelEncoder()\n",
        "data.loc[:, 'rank'] = le.fit_transform(data['rank'])\n",
        "data.loc[:, 'conf'] = le.fit_transform(data['conf'])"
      ],
      "execution_count": 176,
      "outputs": [
        {
          "output_type": "stream",
          "text": [
            "/usr/local/lib/python3.6/dist-packages/pandas/core/indexing.py:494: SettingWithCopyWarning: \n",
            "A value is trying to be set on a copy of a slice from a DataFrame.\n",
            "Try using .loc[row_indexer,col_indexer] = value instead\n",
            "\n",
            "See the caveats in the documentation: http://pandas.pydata.org/pandas-docs/stable/user_guide/indexing.html#returning-a-view-versus-a-copy\n",
            "  self.obj[item] = s\n"
          ],
          "name": "stderr"
        }
      ]
    },
    {
      "cell_type": "code",
      "metadata": {
        "id": "ckRQLhDcoTZk",
        "colab_type": "code",
        "colab": {
          "base_uri": "https://localhost:8080/",
          "height": 170
        },
        "outputId": "d2ab724d-8bcb-4f22-c260-60c935ed0fd3"
      },
      "source": [
        "#view stats on FPI scoring. Teams with higher FPI are considered \"good\" \n",
        "#and rank. The lower your score the weaker you are considered as an opponent\n",
        "data.fpi.describe()"
      ],
      "execution_count": 177,
      "outputs": [
        {
          "output_type": "execute_result",
          "data": {
            "text/plain": [
              "count    114.000000\n",
              "mean       0.703509\n",
              "std       13.061258\n",
              "min      -35.800000\n",
              "25%       -8.350000\n",
              "50%       -0.150000\n",
              "75%        7.800000\n",
              "max       33.700000\n",
              "Name: fpi, dtype: float64"
            ]
          },
          "metadata": {
            "tags": []
          },
          "execution_count": 177
        }
      ]
    },
    {
      "cell_type": "code",
      "metadata": {
        "id": "nz_yoRPcjOE8",
        "colab_type": "code",
        "outputId": "77df2f61-0ced-44f8-d7b3-fe629ad36973",
        "colab": {
          "base_uri": "https://localhost:8080/",
          "height": 139
        }
      },
      "source": [
        "#create conference strength feature. which sums up and potentially penalizes \n",
        "#teams that belong to a \"weak\" conference. The FPI value \n",
        "data[\"conference_strength\"] = data.groupby('conference').fpi.transform('sum')\n"
      ],
      "execution_count": 178,
      "outputs": [
        {
          "output_type": "stream",
          "text": [
            "/usr/local/lib/python3.6/dist-packages/ipykernel_launcher.py:1: SettingWithCopyWarning: \n",
            "A value is trying to be set on a copy of a slice from a DataFrame.\n",
            "Try using .loc[row_indexer,col_indexer] = value instead\n",
            "\n",
            "See the caveats in the documentation: http://pandas.pydata.org/pandas-docs/stable/user_guide/indexing.html#returning-a-view-versus-a-copy\n",
            "  \"\"\"Entry point for launching an IPython kernel.\n"
          ],
          "name": "stderr"
        }
      ]
    },
    {
      "cell_type": "code",
      "metadata": {
        "id": "Jh1TteUgkm9F",
        "colab_type": "code",
        "colab": {
          "base_uri": "https://localhost:8080/",
          "height": 421
        },
        "outputId": "8503ca71-37b1-407f-ec0b-c7aa41b69818"
      },
      "source": [
        "#check average pay\n",
        "pivot_table = pd.pivot_table(data, values = 'conference_strength', index = 'conference', aggfunc = np.mean).sort_values(by = 'conference_strength', ascending = False)\n",
        "pivot_table['conference_strength'] = pivot_table['conference_strength'].map('{:,.2f}'.format)\n",
        "pivot_table"
      ],
      "execution_count": 179,
      "outputs": [
        {
          "output_type": "execute_result",
          "data": {
            "text/html": [
              "<div>\n",
              "<style scoped>\n",
              "    .dataframe tbody tr th:only-of-type {\n",
              "        vertical-align: middle;\n",
              "    }\n",
              "\n",
              "    .dataframe tbody tr th {\n",
              "        vertical-align: top;\n",
              "    }\n",
              "\n",
              "    .dataframe thead th {\n",
              "        text-align: right;\n",
              "    }\n",
              "</style>\n",
              "<table border=\"1\" class=\"dataframe\">\n",
              "  <thead>\n",
              "    <tr style=\"text-align: right;\">\n",
              "      <th></th>\n",
              "      <th>conference_strength</th>\n",
              "    </tr>\n",
              "    <tr>\n",
              "      <th>conference</th>\n",
              "      <th></th>\n",
              "    </tr>\n",
              "  </thead>\n",
              "  <tbody>\n",
              "    <tr>\n",
              "      <th>SEC</th>\n",
              "      <td>155.80</td>\n",
              "    </tr>\n",
              "    <tr>\n",
              "      <th>Big Ten</th>\n",
              "      <td>136.10</td>\n",
              "    </tr>\n",
              "    <tr>\n",
              "      <th>Big 12</th>\n",
              "      <td>58.60</td>\n",
              "    </tr>\n",
              "    <tr>\n",
              "      <th>Pac-12</th>\n",
              "      <td>58.10</td>\n",
              "    </tr>\n",
              "    <tr>\n",
              "      <th>ACC</th>\n",
              "      <td>56.40</td>\n",
              "    </tr>\n",
              "    <tr>\n",
              "      <th>Mt. West</th>\n",
              "      <td>-11.60</td>\n",
              "    </tr>\n",
              "    <tr>\n",
              "      <th>AAC</th>\n",
              "      <td>-15.30</td>\n",
              "    </tr>\n",
              "    <tr>\n",
              "      <th>Sun Belt</th>\n",
              "      <td>-77.90</td>\n",
              "    </tr>\n",
              "    <tr>\n",
              "      <th>Ind.</th>\n",
              "      <td>-86.40</td>\n",
              "    </tr>\n",
              "    <tr>\n",
              "      <th>C-USA</th>\n",
              "      <td>-91.70</td>\n",
              "    </tr>\n",
              "    <tr>\n",
              "      <th>MAC</th>\n",
              "      <td>-101.90</td>\n",
              "    </tr>\n",
              "  </tbody>\n",
              "</table>\n",
              "</div>"
            ],
            "text/plain": [
              "           conference_strength\n",
              "conference                    \n",
              "SEC                     155.80\n",
              "Big Ten                 136.10\n",
              "Big 12                   58.60\n",
              "Pac-12                   58.10\n",
              "ACC                      56.40\n",
              "Mt. West                -11.60\n",
              "AAC                     -15.30\n",
              "Sun Belt                -77.90\n",
              "Ind.                    -86.40\n",
              "C-USA                   -91.70\n",
              "MAC                    -101.90"
            ]
          },
          "metadata": {
            "tags": []
          },
          "execution_count": 179
        }
      ]
    },
    {
      "cell_type": "markdown",
      "metadata": {
        "id": "9BW51ftDpt6V",
        "colab_type": "text"
      },
      "source": [
        "The 5 teams with positive scores are known as the Power 5. These 5 conferences generally have more teams ranked in the top 20 every football season "
      ]
    },
    {
      "cell_type": "code",
      "metadata": {
        "id": "vkfLSNQgvBHD",
        "colab_type": "code",
        "outputId": "6c80b68f-4ed4-4600-9b17-5927cf9e6896",
        "colab": {
          "base_uri": "https://localhost:8080/",
          "height": 221
        }
      },
      "source": [
        "coaches.conference.value_counts()"
      ],
      "execution_count": 180,
      "outputs": [
        {
          "output_type": "execute_result",
          "data": {
            "text/plain": [
              "C-USA       14\n",
              "SEC         14\n",
              "ACC         14\n",
              "Big Ten     14\n",
              "Mt. West    12\n",
              "MAC         12\n",
              "Pac-12      12\n",
              "AAC         11\n",
              "Sun Belt    10\n",
              "Big 12      10\n",
              "Ind.         6\n",
              "Name: conference, dtype: int64"
            ]
          },
          "metadata": {
            "tags": []
          },
          "execution_count": 180
        }
      ]
    },
    {
      "cell_type": "markdown",
      "metadata": {
        "id": "J7y2sU7tn39x",
        "colab_type": "text"
      },
      "source": [
        "# Explore the Data"
      ]
    },
    {
      "cell_type": "code",
      "metadata": {
        "id": "5yPOWckhn82H",
        "colab_type": "code",
        "colab": {}
      },
      "source": [
        "#functions\n",
        "def plot_feature(df, col,target):\n",
        "    plt.figure(figsize = (14, 6))\n",
        "    plt.subplot(1, 2, 1)\n",
        "    if df[col].dtype == 'int64':\n",
        "        df[col].value_counts().sort_index().plot()\n",
        "    else:\n",
        "        #change the categorical variable to category type and order their level by the mean target var\n",
        "        #in each category\n",
        "        mean = df.groupby(col)[target].mean()\n",
        "        df[col] = df[col].astype('category')\n",
        "        levels = mean.sort_values().index.tolist()\n",
        "        df[col].cat.reorder_categories(levels, inplace=True)\n",
        "        df[col].value_counts().plot()\n",
        "    plt.xticks(rotation=45)\n",
        "    plt.xlabel(col)\n",
        "    plt.ylabel('Counts')\n",
        "    plt.title('Distribution of {}'.format(col))\n",
        "    plt.subplot(1, 2, 2)\n",
        "    \n",
        "    if df[col].dtype == 'int64' or col == 'id':\n",
        "        #plot the mean totalpay for each category and fill between the (mean - std, mean + std)\n",
        "        mean = df.groupby(col)[target].mean()\n",
        "        std = df.groupby(col)[target].std()\n",
        "        mean.plot()\n",
        "        plt.fill_between(range(len(std.index)), mean.values-std.values, mean.values + std.values, \\\n",
        "                         alpha = 0.1)\n",
        "    else:\n",
        "        sns.boxplot(x = col, y = target, data=df.sort_values(target))\n",
        "    \n",
        "    plt.xticks(rotation=45)\n",
        "    plt.ylabel(target)\n",
        "    plt.title('Relationship of {} with {}'.format(target,col))\n",
        "    plt.show()"
      ],
      "execution_count": 0,
      "outputs": []
    },
    {
      "cell_type": "code",
      "metadata": {
        "id": "OxzPundOmPKc",
        "colab_type": "code",
        "colab": {}
      },
      "source": [
        "#Get a big picture look at the data\n",
        "#examine_df(data)"
      ],
      "execution_count": 0,
      "outputs": []
    },
    {
      "cell_type": "code",
      "metadata": {
        "id": "OcjZ9pmhmPCS",
        "colab_type": "code",
        "colab": {
          "base_uri": "https://localhost:8080/",
          "height": 34
        },
        "outputId": "a1aa7aa3-39f5-4e9c-bee0-b91a561c91c8"
      },
      "source": [
        "#whats the final shape our data\n",
        "data.shape"
      ],
      "execution_count": 183,
      "outputs": [
        {
          "output_type": "execute_result",
          "data": {
            "text/plain": [
              "(114, 19)"
            ]
          },
          "metadata": {
            "tags": []
          },
          "execution_count": 183
        }
      ]
    },
    {
      "cell_type": "code",
      "metadata": {
        "id": "ujwcZJpsmFfo",
        "colab_type": "code",
        "colab": {
          "base_uri": "https://localhost:8080/",
          "height": 309
        },
        "outputId": "34786245-f3df-4b69-9722-2852aa1ebf3d"
      },
      "source": [
        "#Look a the first 15 rows\n",
        "print(data.head(15).to_string())"
      ],
      "execution_count": 184,
      "outputs": [
        {
          "output_type": "stream",
          "text": [
            "            school conference           coach  totalpay   gsr   fgr  years_w_team  current_w_percentage  career_games  career_w_percentage  conf   fpi  rank  efficiency  capacity  in_nfl_cnt                              stadium  experience  conference_strength\n",
            "0        Air Force   Mt. West    Troy Calhoun    885000  80.0  63.0            13                 0.587           167                0.587     7   7.3     1        70.9   46692.0           2                       Falcon Stadium   13.916667                -11.6\n",
            "2          Alabama        SEC      Nick Saban   8307000  85.0  65.0            13                 0.869           308                0.789     9  29.4     0        92.7  101821.0          56                 Bryant–Denny Stadium   25.666667                155.8\n",
            "3              UCF        AAC     Josh Heupel   1700000  79.0  63.0             2                 0.846            26                0.846     1  12.6     1        77.4   45323.0          16        Bright House Networks Stadium    2.166667                -15.3\n",
            "6          Arizona     Pac-12    Kevin Sumlin   2000000  75.0  60.0             2                 0.375           153                0.621     8  -2.4     3        41.5   51811.0           5                      Arizona Stadium   12.750000                 58.1\n",
            "7    Arizona State     Pac-12    Herm Edwards   2000000  76.0  58.0             2                 0.577            26                0.577     8   6.0     2        60.0   71706.0          10  Sun Devil Stadium, Frank Kush Field    2.166667                 58.1\n",
            "9   Arkansas State   Sun Belt  Blake Anderson    825000  80.0  62.0             6                 0.610            77                0.610    10  -6.1     4        42.6   30964.0           2              Centennial Bank Stadium    6.416667                -77.9\n",
            "10            Army       Ind.     Jeff Monken    932521  79.0  63.0             6                 0.526            76                0.526     5  -4.6     4        35.3   38000.0           2                       Michie Stadium    6.333333                -86.4\n",
            "11          Auburn        SEC     Gus Malzahn   6705656  76.0  67.0             7                 0.667           105                0.676     9  21.3     0        81.9   87451.0          26                  Jordan–Hare Stadium    8.750000                155.8\n",
            "12      Ball State        MAC        Mike Neu    435689  73.0  63.0             4                 0.313            48                0.313     6  -5.3     4        40.3   22500.0           1                    Scheumann Stadium    4.000000               -101.9\n",
            "14     Boise State   Mt. West    Bryan Harsin   1650010  87.0  63.0             6                 0.790            93                0.763     7   8.2     1        67.6   37000.0           9                   Albertsons Stadium    7.750000                -11.6\n",
            "16   Bowling Green        MAC      Mike Jinks    437228  80.0  69.0             1                 0.250            12                0.250     6 -26.0     4        10.3   23724.0           2                   Doyt Perry Stadium    1.000000               -101.9\n",
            "17           UConn        AAC    Randy Edsall   1100000  79.0  63.0             3                 0.167           225                0.436     1 -25.5     4         9.8   40000.0           8                     Rentschler Field   18.750000                -15.3\n",
            "18         Buffalo        MAC   Lance Leipold    455500  79.0  64.0             5                 0.492            63                0.492     6  -3.4     3        51.1   29013.0           2                           UB Stadium    5.250000               -101.9\n",
            "19      Miami (FL)        ACC      Mark Richt   4058061  79.0  63.0             3                 0.590           145                0.593     0   5.4     2        54.2   65326.0          34                     Sun Life Stadium   12.083333                 56.4\n",
            "21  Michigan State    Big Ten   Mark Dantonio   4390417  91.0  72.0            13                 0.667           206                0.641     3   7.7     1        59.0   75005.0          13                      Spartan Stadium   17.166667                136.1\n"
          ],
          "name": "stdout"
        }
      ]
    },
    {
      "cell_type": "code",
      "metadata": {
        "colab_type": "code",
        "id": "C5N1n3QX4il5",
        "outputId": "551829f8-77a2-4b59-eaec-ce7f03e907bc",
        "colab": {
          "base_uri": "https://localhost:8080/",
          "height": 357
        }
      },
      "source": [
        "#check for missing values\n",
        "data.isnull().sum()"
      ],
      "execution_count": 185,
      "outputs": [
        {
          "output_type": "execute_result",
          "data": {
            "text/plain": [
              "school                  0\n",
              "conference              0\n",
              "coach                   0\n",
              "totalpay                0\n",
              "gsr                     0\n",
              "fgr                     0\n",
              "years_w_team            0\n",
              "current_w_percentage    0\n",
              "career_games            0\n",
              "career_w_percentage     0\n",
              "conf                    0\n",
              "fpi                     0\n",
              "rank                    0\n",
              "efficiency              0\n",
              "capacity                0\n",
              "in_nfl_cnt              0\n",
              "stadium                 0\n",
              "experience              0\n",
              "conference_strength     0\n",
              "dtype: int64"
            ]
          },
          "metadata": {
            "tags": []
          },
          "execution_count": 185
        }
      ]
    },
    {
      "cell_type": "code",
      "metadata": {
        "id": "U--nKcW9iYR0",
        "colab_type": "code",
        "colab": {
          "base_uri": "https://localhost:8080/",
          "height": 295
        },
        "outputId": "d66ed7eb-f072-4cae-9295-97dd00f21797"
      },
      "source": [
        "# Plot histogrm of total pay\n",
        "plt.hist(data['totalpay']/1000000, density= False, stacked = False, rwidth = .9)\n",
        "plt.title(\"Histogram Total Pay\")\n",
        "plt.xlabel('Total Pay in Millions')\n",
        "plt.ylabel('Frequency')\n",
        "plt.show()"
      ],
      "execution_count": 186,
      "outputs": [
        {
          "output_type": "display_data",
          "data": {
            "image/png": "[encoded data removed]",
            "text/plain": [
              "<Figure size 432x288 with 1 Axes>"
            ]
          },
          "metadata": {
            "tags": []
          }
        }
      ]
    },
    {
      "cell_type": "code",
      "metadata": {
        "colab_type": "code",
        "id": "pasnWnQu2ROT",
        "outputId": "e2737284-34ff-42a8-84f5-85af01328a0a",
        "colab": {
          "base_uri": "https://localhost:8080/",
          "height": 388
        }
      },
      "source": [
        "# Check the distribution of the target variable. \n",
        "plt.figure(figsize = (13, 6))\n",
        "plt.subplot(1,2,1)\n",
        "sns.boxplot(data.totalpay/10000,color = 'r')\n",
        "plt.subplot(1,2,2)\n",
        "sns.distplot(data.totalpay/10000, bins=20,color = 'b')\n",
        "plt.show()"
      ],
      "execution_count": 187,
      "outputs": [
        {
          "output_type": "display_data",
          "data": {
            "image/png": "[encoded data removed]",
            "text/plain": [
              "<Figure size 936x432 with 2 Axes>"
            ]
          },
          "metadata": {
            "tags": []
          }
        }
      ]
    },
    {
      "cell_type": "code",
      "metadata": {
        "id": "eLiGrujtDt59",
        "colab_type": "code",
        "colab": {
          "base_uri": "https://localhost:8080/",
          "height": 421
        },
        "outputId": "46d8a6f3-ccc2-46da-a7e6-7fae52a404d0"
      },
      "source": [
        "#check average pay per conference\n",
        "pivot_table = pd.pivot_table(data, values = 'totalpay', index = 'conference', aggfunc = np.mean).sort_values(by = 'totalpay', ascending = False)\n",
        "pivot_table['totalpay'] = pivot_table['totalpay'].map('${:,.2f}'.format)\n",
        "pivot_table"
      ],
      "execution_count": 188,
      "outputs": [
        {
          "output_type": "execute_result",
          "data": {
            "text/html": [
              "<div>\n",
              "<style scoped>\n",
              "    .dataframe tbody tr th:only-of-type {\n",
              "        vertical-align: middle;\n",
              "    }\n",
              "\n",
              "    .dataframe tbody tr th {\n",
              "        vertical-align: top;\n",
              "    }\n",
              "\n",
              "    .dataframe thead th {\n",
              "        text-align: right;\n",
              "    }\n",
              "</style>\n",
              "<table border=\"1\" class=\"dataframe\">\n",
              "  <thead>\n",
              "    <tr style=\"text-align: right;\">\n",
              "      <th></th>\n",
              "      <th>totalpay</th>\n",
              "    </tr>\n",
              "    <tr>\n",
              "      <th>conference</th>\n",
              "      <th></th>\n",
              "    </tr>\n",
              "  </thead>\n",
              "  <tbody>\n",
              "    <tr>\n",
              "      <th>SEC</th>\n",
              "      <td>$5,355,837.90</td>\n",
              "    </tr>\n",
              "    <tr>\n",
              "      <th>Big Ten</th>\n",
              "      <td>$4,465,860.92</td>\n",
              "    </tr>\n",
              "    <tr>\n",
              "      <th>Big 12</th>\n",
              "      <td>$4,018,144.56</td>\n",
              "    </tr>\n",
              "    <tr>\n",
              "      <th>ACC</th>\n",
              "      <td>$3,255,698.65</td>\n",
              "    </tr>\n",
              "    <tr>\n",
              "      <th>Pac-12</th>\n",
              "      <td>$2,680,393.30</td>\n",
              "    </tr>\n",
              "    <tr>\n",
              "      <th>AAC</th>\n",
              "      <td>$1,620,334.62</td>\n",
              "    </tr>\n",
              "    <tr>\n",
              "      <th>Mt. West</th>\n",
              "      <td>$989,572.33</td>\n",
              "    </tr>\n",
              "    <tr>\n",
              "      <th>Ind.</th>\n",
              "      <td>$904,846.67</td>\n",
              "    </tr>\n",
              "    <tr>\n",
              "      <th>C-USA</th>\n",
              "      <td>$816,642.40</td>\n",
              "    </tr>\n",
              "    <tr>\n",
              "      <th>Sun Belt</th>\n",
              "      <td>$651,650.00</td>\n",
              "    </tr>\n",
              "    <tr>\n",
              "      <th>MAC</th>\n",
              "      <td>$598,374.50</td>\n",
              "    </tr>\n",
              "  </tbody>\n",
              "</table>\n",
              "</div>"
            ],
            "text/plain": [
              "                 totalpay\n",
              "conference               \n",
              "SEC         $5,355,837.90\n",
              "Big Ten     $4,465,860.92\n",
              "Big 12      $4,018,144.56\n",
              "ACC         $3,255,698.65\n",
              "Pac-12      $2,680,393.30\n",
              "AAC         $1,620,334.62\n",
              "Mt. West      $989,572.33\n",
              "Ind.          $904,846.67\n",
              "C-USA         $816,642.40\n",
              "Sun Belt      $651,650.00\n",
              "MAC           $598,374.50"
            ]
          },
          "metadata": {
            "tags": []
          },
          "execution_count": 188
        }
      ]
    },
    {
      "cell_type": "code",
      "metadata": {
        "id": "qmyslOsFiD6n",
        "colab_type": "code",
        "colab": {
          "base_uri": "https://localhost:8080/",
          "height": 432
        },
        "outputId": "91629860-8421-4818-d53f-6a54564a1175"
      },
      "source": [
        "#compare total pay by conference. Again the \"Power 5\" tend to get paid very well\n",
        "#compared to the other conference\n",
        "plot_feature(coaches,'conference','totalpay')"
      ],
      "execution_count": 189,
      "outputs": [
        {
          "output_type": "display_data",
          "data": {
            "image/png": "[encoded data removed]",
            "text/plain": [
              "<Figure size 1008x432 with 2 Axes>"
            ]
          },
          "metadata": {
            "tags": []
          }
        }
      ]
    },
    {
      "cell_type": "markdown",
      "metadata": {
        "id": "ahOKGxTEnnSx",
        "colab_type": "text"
      },
      "source": [
        "**Relationship to Target Pay**\n",
        "Lets look at the relationship of each feature to Target Pay. "
      ]
    },
    {
      "cell_type": "markdown",
      "metadata": {
        "id": "RuW1N3PcJN36",
        "colab_type": "text"
      },
      "source": [
        "**Graduation Rate**"
      ]
    },
    {
      "cell_type": "code",
      "metadata": {
        "id": "Qwz8RsJHEojx",
        "colab_type": "code",
        "colab": {
          "base_uri": "https://localhost:8080/",
          "height": 310
        },
        "outputId": "31c5b3a0-3fc1-45ad-9562-8943297f171e"
      },
      "source": [
        "g = sns.PairGrid(data, x_vars=['gsr', 'fgr'], y_vars='totalpay',height=4)\n",
        "g.map(sns.regplot)"
      ],
      "execution_count": 190,
      "outputs": [
        {
          "output_type": "execute_result",
          "data": {
            "text/plain": [
              "<seaborn.axisgrid.PairGrid at 0x7f97d5885cf8>"
            ]
          },
          "metadata": {
            "tags": []
          },
          "execution_count": 190
        },
        {
          "output_type": "display_data",
          "data": {
            "image/png": "[encoded data removed]",
            "text/plain": [
              "<Figure size 576x288 with 2 Axes>"
            ]
          },
          "metadata": {
            "tags": []
          }
        }
      ]
    },
    {
      "cell_type": "markdown",
      "metadata": {
        "id": "iSg0sqxon9oK",
        "colab_type": "text"
      },
      "source": [
        "Based upon the plot there does not appear to be a strong relationship between graduation rate and a head coach's pay. Not exactly surprising given the head coach's primary job is to win football games."
      ]
    },
    {
      "cell_type": "code",
      "metadata": {
        "id": "4a7AiAPnn7GV",
        "colab_type": "code",
        "colab": {}
      },
      "source": [
        ""
      ],
      "execution_count": 0,
      "outputs": []
    },
    {
      "cell_type": "markdown",
      "metadata": {
        "id": "65d1CFeWocDb",
        "colab_type": "text"
      },
      "source": [
        "**Coaches Record:** \n",
        "It is appears there is a relationship between some of the features of within a coaches record and total pay. The two that jump out are current_w_percentage and career_w_percentage. Both account for the win percentages but from last season and over the course of a coaches career. Again this makes sense"
      ]
    },
    {
      "cell_type": "code",
      "metadata": {
        "id": "laRajNy3ZRfn",
        "colab_type": "code",
        "colab": {
          "base_uri": "https://localhost:8080/",
          "height": 238
        },
        "outputId": "0648f855-e6c4-4106-cf6e-1d30ee0a7530"
      },
      "source": [
        "g = sns.PairGrid(data, x_vars=[ 'years_w_team', 'current_w_percentage', 'career_games','career_w_percentage'], y_vars='totalpay',height=3)\n",
        "g.map(sns.regplot)"
      ],
      "execution_count": 191,
      "outputs": [
        {
          "output_type": "execute_result",
          "data": {
            "text/plain": [
              "<seaborn.axisgrid.PairGrid at 0x7f97d5787048>"
            ]
          },
          "metadata": {
            "tags": []
          },
          "execution_count": 191
        },
        {
          "output_type": "display_data",
          "data": {
            "image/png": "[encoded data removed]",
            "text/plain": [
              "<Figure size 864x216 with 4 Axes>"
            ]
          },
          "metadata": {
            "tags": []
          }
        }
      ]
    },
    {
      "cell_type": "markdown",
      "metadata": {
        "id": "sPMLd7itpgRV",
        "colab_type": "text"
      },
      "source": [
        "**Team Performance**\n",
        "It also appears how the team performs has an effect on total pay for the coach. of particaular note. All 5 values here should be looked at in the modeling phase."
      ]
    },
    {
      "cell_type": "code",
      "metadata": {
        "id": "oXiz7_MOZRGN",
        "colab_type": "code",
        "colab": {
          "base_uri": "https://localhost:8080/",
          "height": 258
        },
        "outputId": "66ac4f00-ed2f-4d18-e927-19c8764b92fd"
      },
      "source": [
        "g = sns.PairGrid(data, x_vars=[ 'conf','conference_strength', 'rank', 'efficiency', 'fpi'], y_vars='totalpay',height=3)\n",
        "g.map(sns.regplot)"
      ],
      "execution_count": 192,
      "outputs": [
        {
          "output_type": "execute_result",
          "data": {
            "text/plain": [
              "<seaborn.axisgrid.PairGrid at 0x7f97d5676ac8>"
            ]
          },
          "metadata": {
            "tags": []
          },
          "execution_count": 192
        },
        {
          "output_type": "display_data",
          "data": {
            "image/png": "[encoded data removed]",
            "text/plain": [
              "<Figure size 1080x216 with 5 Axes>"
            ]
          },
          "metadata": {
            "tags": []
          }
        }
      ]
    },
    {
      "cell_type": "markdown",
      "metadata": {
        "id": "RrXa5xvDqWmQ",
        "colab_type": "text"
      },
      "source": [
        "**Stadium Size and NFL Players** \n",
        "Both Stadium and Number of currrent NFL players points towards both popularity of the school and the number of players that will go on to become even more popular within the NFL. It would stand to reason, if you are training and producing NFL calibre players, you will need to resources and a venue to showcase their talents. Plus you will be nicely compensated for this"
      ]
    },
    {
      "cell_type": "code",
      "metadata": {
        "id": "g2N-0TaSZ20G",
        "colab_type": "code",
        "colab": {
          "base_uri": "https://localhost:8080/",
          "height": 249
        },
        "outputId": "d260d97c-fa6f-43e5-b318-9b70f4167d34"
      },
      "source": [
        "g = sns.PairGrid(data, x_vars=['in_nfl_cnt', 'capacity'], y_vars='totalpay',height=3 )\n",
        "g.map(sns.regplot)\n"
      ],
      "execution_count": 193,
      "outputs": [
        {
          "output_type": "execute_result",
          "data": {
            "text/plain": [
              "<seaborn.axisgrid.PairGrid at 0x7f97d5590128>"
            ]
          },
          "metadata": {
            "tags": []
          },
          "execution_count": 193
        },
        {
          "output_type": "display_data",
          "data": {
            "image/png": "[encoded data removed]",
            "text/plain": [
              "<Figure size 432x216 with 2 Axes>"
            ]
          },
          "metadata": {
            "tags": []
          }
        }
      ]
    },
    {
      "cell_type": "code",
      "metadata": {
        "id": "WiKAD7dUEoK0",
        "colab_type": "code",
        "colab": {
          "base_uri": "https://localhost:8080/",
          "height": 411
        },
        "outputId": "2832f0d9-2ff8-4cf5-b540-db122539d501"
      },
      "source": [
        "#The big takeawat here is those who get paid the best have a higher NFL player placement\n",
        "plot_feature(data,'in_nfl_cnt','totalpay')"
      ],
      "execution_count": 194,
      "outputs": [
        {
          "output_type": "display_data",
          "data": {
            "image/png": "[encoded data removed]",
            "text/plain": [
              "<Figure size 1008x432 with 2 Axes>"
            ]
          },
          "metadata": {
            "tags": []
          }
        }
      ]
    },
    {
      "cell_type": "markdown",
      "metadata": {
        "id": "bZIa5SYRrDb-",
        "colab_type": "text"
      },
      "source": [
        "**Pick the Features for modeling**\n",
        "based upon the above analysis we will pick the following features for modeling. Of these features, its safe to assume gsr and fgr are fairly weak predictors."
      ]
    },
    {
      "cell_type": "code",
      "metadata": {
        "colab_type": "code",
        "id": "u92sGhh_dTUn",
        "colab": {}
      },
      "source": [
        "#select the columns\n",
        "cols = ['school', 'conference', 'coach', 'totalpay', 'gsr', 'fgr', 'conference_strength',\n",
        "       'years_w_team', 'current_w_percentage', 'career_games', 'in_nfl_cnt',\n",
        "       'career_w_percentage', 'conf', 'rank', 'efficiency', 'fpi', 'capacity']"
      ],
      "execution_count": 0,
      "outputs": []
    },
    {
      "cell_type": "code",
      "metadata": {
        "colab_type": "code",
        "id": "uCx6yOf0dT04",
        "colab": {}
      },
      "source": [
        "#create the dataset to be used for modeling\n",
        "dataset = data[cols]"
      ],
      "execution_count": 0,
      "outputs": []
    },
    {
      "cell_type": "code",
      "metadata": {
        "colab_type": "code",
        "id": "dYEcRIN0dUw2",
        "outputId": "1ee98d75-1a37-4b05-904c-02ef4d6ff661",
        "colab": {
          "base_uri": "https://localhost:8080/",
          "height": 317
        }
      },
      "source": [
        "#look to make sure there are significant concerns\n",
        "dataset.describe()"
      ],
      "execution_count": 197,
      "outputs": [
        {
          "output_type": "execute_result",
          "data": {
            "text/html": [
              "<div>\n",
              "<style scoped>\n",
              "    .dataframe tbody tr th:only-of-type {\n",
              "        vertical-align: middle;\n",
              "    }\n",
              "\n",
              "    .dataframe tbody tr th {\n",
              "        vertical-align: top;\n",
              "    }\n",
              "\n",
              "    .dataframe thead th {\n",
              "        text-align: right;\n",
              "    }\n",
              "</style>\n",
              "<table border=\"1\" class=\"dataframe\">\n",
              "  <thead>\n",
              "    <tr style=\"text-align: right;\">\n",
              "      <th></th>\n",
              "      <th>totalpay</th>\n",
              "      <th>gsr</th>\n",
              "      <th>fgr</th>\n",
              "      <th>conference_strength</th>\n",
              "      <th>years_w_team</th>\n",
              "      <th>current_w_percentage</th>\n",
              "      <th>career_games</th>\n",
              "      <th>in_nfl_cnt</th>\n",
              "      <th>career_w_percentage</th>\n",
              "      <th>conf</th>\n",
              "      <th>rank</th>\n",
              "      <th>efficiency</th>\n",
              "      <th>fpi</th>\n",
              "      <th>capacity</th>\n",
              "    </tr>\n",
              "  </thead>\n",
              "  <tbody>\n",
              "    <tr>\n",
              "      <th>count</th>\n",
              "      <td>1.140000e+02</td>\n",
              "      <td>114.000000</td>\n",
              "      <td>114.000000</td>\n",
              "      <td>114.000000</td>\n",
              "      <td>114.000000</td>\n",
              "      <td>114.000000</td>\n",
              "      <td>114.000000</td>\n",
              "      <td>114.000000</td>\n",
              "      <td>114.000000</td>\n",
              "      <td>114.000000</td>\n",
              "      <td>114.000000</td>\n",
              "      <td>114.000000</td>\n",
              "      <td>114.000000</td>\n",
              "      <td>114.000000</td>\n",
              "    </tr>\n",
              "    <tr>\n",
              "      <th>mean</th>\n",
              "      <td>2.507793e+06</td>\n",
              "      <td>80.271930</td>\n",
              "      <td>63.885965</td>\n",
              "      <td>16.969298</td>\n",
              "      <td>4.631579</td>\n",
              "      <td>0.519535</td>\n",
              "      <td>96.377193</td>\n",
              "      <td>11.359649</td>\n",
              "      <td>0.548781</td>\n",
              "      <td>4.552632</td>\n",
              "      <td>2.421053</td>\n",
              "      <td>51.008772</td>\n",
              "      <td>0.703509</td>\n",
              "      <td>51588.403509</td>\n",
              "    </tr>\n",
              "    <tr>\n",
              "      <th>std</th>\n",
              "      <td>1.916242e+06</td>\n",
              "      <td>7.759989</td>\n",
              "      <td>10.463386</td>\n",
              "      <td>89.038031</td>\n",
              "      <td>4.333984</td>\n",
              "      <td>0.183242</td>\n",
              "      <td>77.452971</td>\n",
              "      <td>10.170343</td>\n",
              "      <td>0.163945</td>\n",
              "      <td>3.371122</td>\n",
              "      <td>1.492724</td>\n",
              "      <td>20.544778</td>\n",
              "      <td>13.061258</td>\n",
              "      <td>24162.975818</td>\n",
              "    </tr>\n",
              "    <tr>\n",
              "      <th>min</th>\n",
              "      <td>4.000000e+05</td>\n",
              "      <td>54.000000</td>\n",
              "      <td>31.000000</td>\n",
              "      <td>-101.900000</td>\n",
              "      <td>0.000000</td>\n",
              "      <td>0.083000</td>\n",
              "      <td>1.000000</td>\n",
              "      <td>1.000000</td>\n",
              "      <td>0.083000</td>\n",
              "      <td>0.000000</td>\n",
              "      <td>0.000000</td>\n",
              "      <td>2.000000</td>\n",
              "      <td>-35.800000</td>\n",
              "      <td>15314.000000</td>\n",
              "    </tr>\n",
              "    <tr>\n",
              "      <th>25%</th>\n",
              "      <td>8.037155e+05</td>\n",
              "      <td>76.000000</td>\n",
              "      <td>59.250000</td>\n",
              "      <td>-77.900000</td>\n",
              "      <td>1.000000</td>\n",
              "      <td>0.406500</td>\n",
              "      <td>38.000000</td>\n",
              "      <td>4.000000</td>\n",
              "      <td>0.474000</td>\n",
              "      <td>2.000000</td>\n",
              "      <td>1.000000</td>\n",
              "      <td>37.750000</td>\n",
              "      <td>-8.350000</td>\n",
              "      <td>30662.500000</td>\n",
              "    </tr>\n",
              "    <tr>\n",
              "      <th>50%</th>\n",
              "      <td>2.000000e+06</td>\n",
              "      <td>79.000000</td>\n",
              "      <td>63.000000</td>\n",
              "      <td>56.400000</td>\n",
              "      <td>3.000000</td>\n",
              "      <td>0.532000</td>\n",
              "      <td>76.000000</td>\n",
              "      <td>9.000000</td>\n",
              "      <td>0.573500</td>\n",
              "      <td>4.000000</td>\n",
              "      <td>3.000000</td>\n",
              "      <td>50.000000</td>\n",
              "      <td>-0.150000</td>\n",
              "      <td>50000.000000</td>\n",
              "    </tr>\n",
              "    <tr>\n",
              "      <th>75%</th>\n",
              "      <td>3.738494e+06</td>\n",
              "      <td>86.000000</td>\n",
              "      <td>69.000000</td>\n",
              "      <td>58.600000</td>\n",
              "      <td>6.000000</td>\n",
              "      <td>0.624500</td>\n",
              "      <td>137.250000</td>\n",
              "      <td>15.000000</td>\n",
              "      <td>0.642000</td>\n",
              "      <td>8.000000</td>\n",
              "      <td>4.000000</td>\n",
              "      <td>62.925000</td>\n",
              "      <td>7.800000</td>\n",
              "      <td>66006.250000</td>\n",
              "    </tr>\n",
              "    <tr>\n",
              "      <th>max</th>\n",
              "      <td>8.307000e+06</td>\n",
              "      <td>100.000000</td>\n",
              "      <td>100.000000</td>\n",
              "      <td>155.800000</td>\n",
              "      <td>21.000000</td>\n",
              "      <td>1.000000</td>\n",
              "      <td>379.000000</td>\n",
              "      <td>56.000000</td>\n",
              "      <td>1.000000</td>\n",
              "      <td>10.000000</td>\n",
              "      <td>4.000000</td>\n",
              "      <td>96.600000</td>\n",
              "      <td>33.700000</td>\n",
              "      <td>107601.000000</td>\n",
              "    </tr>\n",
              "  </tbody>\n",
              "</table>\n",
              "</div>"
            ],
            "text/plain": [
              "           totalpay         gsr  ...         fpi       capacity\n",
              "count  1.140000e+02  114.000000  ...  114.000000     114.000000\n",
              "mean   2.507793e+06   80.271930  ...    0.703509   51588.403509\n",
              "std    1.916242e+06    7.759989  ...   13.061258   24162.975818\n",
              "min    4.000000e+05   54.000000  ...  -35.800000   15314.000000\n",
              "25%    8.037155e+05   76.000000  ...   -8.350000   30662.500000\n",
              "50%    2.000000e+06   79.000000  ...   -0.150000   50000.000000\n",
              "75%    3.738494e+06   86.000000  ...    7.800000   66006.250000\n",
              "max    8.307000e+06  100.000000  ...   33.700000  107601.000000\n",
              "\n",
              "[8 rows x 14 columns]"
            ]
          },
          "metadata": {
            "tags": []
          },
          "execution_count": 197
        }
      ]
    },
    {
      "cell_type": "markdown",
      "metadata": {
        "id": "WsR8oWTIrwmd",
        "colab_type": "text"
      },
      "source": [
        "nothing too concerning here. We do have a few coaches that are new to the team. So years_w_team is 0. Otherwise the data looks pretty good"
      ]
    },
    {
      "cell_type": "code",
      "metadata": {
        "colab_type": "code",
        "id": "pMG6plAqCvVJ",
        "outputId": "d4004136-fce1-4cca-f729-ad800606588c",
        "colab": {
          "base_uri": "https://localhost:8080/",
          "height": 34
        }
      },
      "source": [
        "#dedupe the dataset\n",
        "dataset.drop_duplicates()\n",
        "dataset.shape"
      ],
      "execution_count": 198,
      "outputs": [
        {
          "output_type": "execute_result",
          "data": {
            "text/plain": [
              "(114, 17)"
            ]
          },
          "metadata": {
            "tags": []
          },
          "execution_count": 198
        }
      ]
    },
    {
      "cell_type": "markdown",
      "metadata": {
        "id": "Ao06iDdxr_6R",
        "colab_type": "text"
      },
      "source": [
        "Looks like we lost a few teams after dropping the records where total pay was missing"
      ]
    },
    {
      "cell_type": "code",
      "metadata": {
        "id": "3xIw3nvQr83z",
        "colab_type": "code",
        "colab": {}
      },
      "source": [
        ""
      ],
      "execution_count": 0,
      "outputs": []
    },
    {
      "cell_type": "code",
      "metadata": {
        "colab_type": "code",
        "id": "N9SMvz7KyZB1",
        "outputId": "3764b5c3-3e40-4605-a94b-ab9690e6f330",
        "colab": {
          "base_uri": "https://localhost:8080/",
          "height": 323
        }
      },
      "source": [
        "dataset.isnull().sum()"
      ],
      "execution_count": 199,
      "outputs": [
        {
          "output_type": "execute_result",
          "data": {
            "text/plain": [
              "school                  0\n",
              "conference              0\n",
              "coach                   0\n",
              "totalpay                0\n",
              "gsr                     0\n",
              "fgr                     0\n",
              "conference_strength     0\n",
              "years_w_team            0\n",
              "current_w_percentage    0\n",
              "career_games            0\n",
              "in_nfl_cnt              0\n",
              "career_w_percentage     0\n",
              "conf                    0\n",
              "rank                    0\n",
              "efficiency              0\n",
              "fpi                     0\n",
              "capacity                0\n",
              "dtype: int64"
            ]
          },
          "metadata": {
            "tags": []
          },
          "execution_count": 199
        }
      ]
    },
    {
      "cell_type": "code",
      "metadata": {
        "id": "WGnluC0Ju1hf",
        "colab_type": "code",
        "colab": {
          "base_uri": "https://localhost:8080/",
          "height": 275
        },
        "outputId": "def9da38-2612-463f-8d38-9328ae5c4b73"
      },
      "source": [
        "print(\"HEAD\")\n",
        "print(dataset.head().to_string())\n",
        "print(\"Tail\")\n",
        "print(dataset.tail().to_string())"
      ],
      "execution_count": 200,
      "outputs": [
        {
          "output_type": "stream",
          "text": [
            "HEAD\n",
            "          school conference         coach  totalpay   gsr   fgr  conference_strength  years_w_team  current_w_percentage  career_games  in_nfl_cnt  career_w_percentage  conf  rank  efficiency   fpi  capacity\n",
            "0      Air Force   Mt. West  Troy Calhoun    885000  80.0  63.0                -11.6            13                 0.587           167           2                0.587     7     1        70.9   7.3   46692.0\n",
            "2        Alabama        SEC    Nick Saban   8307000  85.0  65.0                155.8            13                 0.869           308          56                0.789     9     0        92.7  29.4  101821.0\n",
            "3            UCF        AAC   Josh Heupel   1700000  79.0  63.0                -15.3             2                 0.846            26          16                0.846     1     1        77.4  12.6   45323.0\n",
            "6        Arizona     Pac-12  Kevin Sumlin   2000000  75.0  60.0                 58.1             2                 0.375           153           5                0.621     8     3        41.5  -2.4   51811.0\n",
            "7  Arizona State     Pac-12  Herm Edwards   2000000  76.0  58.0                 58.1             2                 0.577            26          10                0.577     8     2        60.0   6.0   71706.0\n",
            "Tail\n",
            "               school conference           coach  totalpay   gsr   fgr  conference_strength  years_w_team  current_w_percentage  career_games  in_nfl_cnt  career_w_percentage  conf  rank  efficiency   fpi  capacity\n",
            "136  Coastal Carolina   Sun Belt      Joe Moglia    400000  79.0  59.0                -77.9             1                 0.333            24           1                0.333    10     4        28.7 -12.0   21000.0\n",
            "137     West Virginia     Big 12  Dana Holgorsen   3617500  79.0  63.0                 58.6             1                 0.417            63          16                0.635     2     3        47.5  -1.5   60000.0\n",
            "138  Georgia Southern   Sun Belt   Chad Lunsford    650000  67.0  56.0                -77.9             2                 0.594            32           1                0.594    10     4        44.2  -4.9   24300.0\n",
            "139         Wisconsin    Big Ten     Paul Chryst   3750000  79.0  63.0                136.1             5                 0.765           106          26                0.670     3     0        86.2  21.3   80321.0\n",
            "140           Wyoming   Mt. West      Craig Bohl   1412000  85.0  51.0                -11.6             6                 0.474            76           8                0.474     7     3        53.3  -0.6   29181.0\n"
          ],
          "name": "stdout"
        }
      ]
    },
    {
      "cell_type": "markdown",
      "metadata": {
        "id": "KQ2GXpjbLOv4",
        "colab_type": "text"
      },
      "source": [
        "# Model"
      ]
    },
    {
      "cell_type": "code",
      "metadata": {
        "id": "f1-tu1wSESji",
        "colab_type": "code",
        "colab": {}
      },
      "source": [
        "#import the modeling packages\n",
        "from sklearn.model_selection import train_test_split\n",
        "from sklearn.linear_model import LinearRegression\n",
        "from sklearn.metrics import r2_score, mean_squared_error, mean_absolute_error\n",
        "import statsmodels.api as sm\n",
        "import statsmodels.formula.api as smf"
      ],
      "execution_count": 0,
      "outputs": []
    },
    {
      "cell_type": "code",
      "metadata": {
        "id": "fuJ79KUYId10",
        "colab_type": "code",
        "colab": {
          "base_uri": "https://localhost:8080/",
          "height": 479
        },
        "outputId": "991f55e6-e819-41fb-9763-afc92909c36a"
      },
      "source": [
        "#code below from modified from live session live session\n",
        "#simply splitting the data for training and testing\n",
        "from scipy.stats import uniform  # for training-and-test split\n",
        "\n",
        "# employ training-and-test regimen for model validation\n",
        "np.random.seed(1234)\n",
        "dataset['runiform'] = uniform.rvs(loc = 0, scale = 1, size = len(dataset))\n",
        "coach_train = dataset[dataset['runiform'] >= 0.33]\n",
        "coach_test = dataset[dataset['runiform'] < 0.33]\n",
        "# check training data frame\n",
        "print('\\ncoach_train data frame (rows, columns): ',coach_train.shape)\n",
        "print(coach_train.head())\n",
        "# check test data frame\n",
        "print('\\ncoach_test data frame (rows, columns): ',coach_test.shape)\n",
        "print(coach_test.head())"
      ],
      "execution_count": 202,
      "outputs": [
        {
          "output_type": "stream",
          "text": [
            "\n",
            "coach_train data frame (rows, columns):  (82, 18)\n",
            "           school conference         coach  ...   fpi  capacity  runiform\n",
            "2         Alabama        SEC    Nick Saban  ...  29.4  101821.0  0.622109\n",
            "3             UCF        AAC   Josh Heupel  ...  12.6   45323.0  0.437728\n",
            "6         Arizona     Pac-12  Kevin Sumlin  ...  -2.4   51811.0  0.785359\n",
            "7   Arizona State     Pac-12  Herm Edwards  ...   6.0   71706.0  0.779976\n",
            "11         Auburn        SEC   Gus Malzahn  ...  21.3   87451.0  0.801872\n",
            "\n",
            "[5 rows x 18 columns]\n",
            "\n",
            "coach_test data frame (rows, columns):  (32, 18)\n",
            "            school conference               coach  ...   fpi  capacity  runiform\n",
            "0        Air Force   Mt. West        Troy Calhoun  ...   7.3   46692.0  0.191519\n",
            "9   Arkansas State   Sun Belt      Blake Anderson  ...  -6.1   30964.0  0.272593\n",
            "10            Army       Ind.         Jeff Monken  ...  -4.6   38000.0  0.276464\n",
            "24         Clemson        ACC        Dabo Swinney  ...  31.5   81500.0  0.013768\n",
            "31   East Carolina        AAC  Scottie Montgomery  ... -13.3   50000.0  0.075381\n",
            "\n",
            "[5 rows x 18 columns]\n"
          ],
          "name": "stdout"
        },
        {
          "output_type": "stream",
          "text": [
            "/usr/local/lib/python3.6/dist-packages/ipykernel_launcher.py:5: SettingWithCopyWarning: \n",
            "A value is trying to be set on a copy of a slice from a DataFrame.\n",
            "Try using .loc[row_indexer,col_indexer] = value instead\n",
            "\n",
            "See the caveats in the documentation: http://pandas.pydata.org/pandas-docs/stable/user_guide/indexing.html#returning-a-view-versus-a-copy\n",
            "  \"\"\"\n"
          ],
          "name": "stderr"
        }
      ]
    },
    {
      "cell_type": "markdown",
      "metadata": {
        "id": "YSXMNIMw6CKJ",
        "colab_type": "text"
      },
      "source": [
        "**Model 1**\n",
        "We use Stats Model Linear Regression for the first model. We will include all features. "
      ]
    },
    {
      "cell_type": "code",
      "metadata": {
        "id": "FN4kt8O9wLB7",
        "colab_type": "code",
        "colab": {
          "base_uri": "https://localhost:8080/",
          "height": 887
        },
        "outputId": "e74d5ca8-2d96-44ba-cd1d-931a946a8a08"
      },
      "source": [
        "# model includes all features \n",
        "model1 = str('totalpay ~  gsr +  fgr + years_w_team +  current_w_percentage +  career_games +\\\n",
        "                    in_nfl_cnt + career_w_percentage +  conf +  rank +  efficiency +  fpi +  capacity')\n",
        "\n",
        "# fit the model to the training set\n",
        "lm1 = smf.ols(model1, data = coach_train).fit()\n",
        "# summary of model fit to the training set\n",
        "print(lm1.summary())\n",
        "# training set predictions from the model fit to the training set\n",
        "coach_train['predict_totalpay'] = lm1.fittedvalues\n",
        "\n",
        "# test set predictions from the model fit to the training set\n",
        "coach_test['predict_totalpay'] = lm1.predict(coach_test)"
      ],
      "execution_count": 203,
      "outputs": [
        {
          "output_type": "stream",
          "text": [
            "                            OLS Regression Results                            \n",
            "==============================================================================\n",
            "Dep. Variable:               totalpay   R-squared:                       0.837\n",
            "Model:                            OLS   Adj. R-squared:                  0.809\n",
            "Method:                 Least Squares   F-statistic:                     29.60\n",
            "Date:                Sun, 26 Jan 2020   Prob (F-statistic):           1.60e-22\n",
            "Time:                        08:24:32   Log-Likelihood:                -1230.7\n",
            "No. Observations:                  82   AIC:                             2487.\n",
            "Df Residuals:                      69   BIC:                             2519.\n",
            "Df Model:                          12                                         \n",
            "Covariance Type:            nonrobust                                         \n",
            "========================================================================================\n",
            "                           coef    std err          t      P>|t|      [0.025      0.975]\n",
            "----------------------------------------------------------------------------------------\n",
            "Intercept             6.472e+06   2.43e+06      2.668      0.009    1.63e+06    1.13e+07\n",
            "gsr                   1945.3467   2.13e+04      0.091      0.928   -4.06e+04    4.45e+04\n",
            "fgr                   1641.3927   1.59e+04      0.104      0.918      -3e+04    3.33e+04\n",
            "years_w_team          6.416e+04   3.46e+04      1.855      0.068   -4842.149    1.33e+05\n",
            "current_w_percentage -3.557e+06   1.58e+06     -2.254      0.027   -6.71e+06   -4.08e+05\n",
            "career_games         -3058.4440   1943.754     -1.573      0.120   -6936.127     819.239\n",
            "in_nfl_cnt            8.874e+04   1.93e+04      4.608      0.000    5.03e+04    1.27e+05\n",
            "career_w_percentage   2.278e+06    1.5e+06      1.516      0.134   -7.19e+05    5.28e+06\n",
            "conf                 -5.715e+04   3.33e+04     -1.717      0.090   -1.24e+05    9236.953\n",
            "rank                 -4.822e+05   1.77e+05     -2.723      0.008   -8.36e+05   -1.29e+05\n",
            "efficiency           -8.039e+04   3.04e+04     -2.640      0.010   -1.41e+05   -1.96e+04\n",
            "fpi                    1.31e+05   4.81e+04      2.725      0.008    3.51e+04    2.27e+05\n",
            "capacity                15.6125      8.324      1.876      0.065      -0.994      32.219\n",
            "==============================================================================\n",
            "Omnibus:                       15.924   Durbin-Watson:                   2.174\n",
            "Prob(Omnibus):                  0.000   Jarque-Bera (JB):               33.859\n",
            "Skew:                          -0.629   Prob(JB):                     4.44e-08\n",
            "Kurtosis:                       5.886   Cond. No.                     1.45e+06\n",
            "==============================================================================\n",
            "\n",
            "Warnings:\n",
            "[1] Standard Errors assume that the covariance matrix of the errors is correctly specified.\n",
            "[2] The condition number is large, 1.45e+06. This might indicate that there are\n",
            "strong multicollinearity or other numerical problems.\n"
          ],
          "name": "stdout"
        },
        {
          "output_type": "stream",
          "text": [
            "/usr/local/lib/python3.6/dist-packages/ipykernel_launcher.py:8: SettingWithCopyWarning: \n",
            "A value is trying to be set on a copy of a slice from a DataFrame.\n",
            "Try using .loc[row_indexer,col_indexer] = value instead\n",
            "\n",
            "See the caveats in the documentation: http://pandas.pydata.org/pandas-docs/stable/user_guide/indexing.html#returning-a-view-versus-a-copy\n",
            "  \n",
            "/usr/local/lib/python3.6/dist-packages/ipykernel_launcher.py:11: SettingWithCopyWarning: \n",
            "A value is trying to be set on a copy of a slice from a DataFrame.\n",
            "Try using .loc[row_indexer,col_indexer] = value instead\n",
            "\n",
            "See the caveats in the documentation: http://pandas.pydata.org/pandas-docs/stable/user_guide/indexing.html#returning-a-view-versus-a-copy\n",
            "  # This is added back by InteractiveShellApp.init_path()\n"
          ],
          "name": "stderr"
        }
      ]
    },
    {
      "cell_type": "code",
      "metadata": {
        "id": "ayb6XwjLwKnr",
        "colab_type": "code",
        "colab": {
          "base_uri": "https://localhost:8080/",
          "height": 952
        },
        "outputId": "050e3933-a891-4728-bc5e-d71d6086c5d7"
      },
      "source": [
        "# MODEL\n",
        "# compute the proportion of response variance\n",
        "# accounted for when predicting out-of-sample\n",
        "print('\\nProportion of Test Set Variance Accounted for: ',\\\n",
        "    round(np.power(coach_test['totalpay'].corr(coach_test['predict_totalpay']),2),3))\n",
        "\n",
        "# use the full data set to obtain an estimate of the change in\n",
        "# totalpayance based upon other features\n",
        "lm1_fit = smf.ols(model1, data = dataset).fit()\n",
        "print(lm1_fit.summary())\n",
        "\n",
        "print('\\nEstimated Effect of all features on Total Pay: ',\\\n",
        "    round(lm1_fit.params,0))\n"
      ],
      "execution_count": 204,
      "outputs": [
        {
          "output_type": "stream",
          "text": [
            "\n",
            "Proportion of Test Set Variance Accounted for:  0.769\n",
            "                            OLS Regression Results                            \n",
            "==============================================================================\n",
            "Dep. Variable:               totalpay   R-squared:                       0.823\n",
            "Model:                            OLS   Adj. R-squared:                  0.802\n",
            "Method:                 Least Squares   F-statistic:                     39.08\n",
            "Date:                Sun, 26 Jan 2020   Prob (F-statistic):           1.56e-32\n",
            "Time:                        08:24:32   Log-Likelihood:                -1711.7\n",
            "No. Observations:                 114   AIC:                             3449.\n",
            "Df Residuals:                     101   BIC:                             3485.\n",
            "Df Model:                          12                                         \n",
            "Covariance Type:            nonrobust                                         \n",
            "========================================================================================\n",
            "                           coef    std err          t      P>|t|      [0.025      0.975]\n",
            "----------------------------------------------------------------------------------------\n",
            "Intercept             6.052e+06   2.06e+06      2.934      0.004    1.96e+06    1.01e+07\n",
            "gsr                  -1.062e+04   1.73e+04     -0.613      0.542    -4.5e+04    2.38e+04\n",
            "fgr                   9635.8489    1.3e+04      0.741      0.460   -1.62e+04    3.54e+04\n",
            "years_w_team          6.401e+04    2.6e+04      2.464      0.015    1.25e+04    1.16e+05\n",
            "current_w_percentage -2.091e+06   1.19e+06     -1.762      0.081   -4.45e+06    2.63e+05\n",
            "career_games         -2742.2618   1545.740     -1.774      0.079   -5808.593     324.070\n",
            "in_nfl_cnt            8.361e+04   1.65e+04      5.059      0.000    5.08e+04    1.16e+05\n",
            "career_w_percentage   1.529e+06    1.1e+06      1.391      0.167   -6.51e+05    3.71e+06\n",
            "conf                 -7.287e+04    2.7e+04     -2.704      0.008   -1.26e+05   -1.94e+04\n",
            "rank                 -3.743e+05   1.49e+05     -2.505      0.014   -6.71e+05   -7.79e+04\n",
            "efficiency           -7.199e+04   2.51e+04     -2.872      0.005   -1.22e+05   -2.23e+04\n",
            "fpi                   1.216e+05   3.78e+04      3.219      0.002    4.66e+04    1.97e+05\n",
            "capacity                15.1593      6.861      2.210      0.029       1.550      28.769\n",
            "==============================================================================\n",
            "Omnibus:                        9.414   Durbin-Watson:                   2.280\n",
            "Prob(Omnibus):                  0.009   Jarque-Bera (JB):               15.931\n",
            "Skew:                          -0.314   Prob(JB):                     0.000347\n",
            "Kurtosis:                       4.721   Cond. No.                     1.48e+06\n",
            "==============================================================================\n",
            "\n",
            "Warnings:\n",
            "[1] Standard Errors assume that the covariance matrix of the errors is correctly specified.\n",
            "[2] The condition number is large, 1.48e+06. This might indicate that there are\n",
            "strong multicollinearity or other numerical problems.\n",
            "\n",
            "Estimated Effect of all features on Total Pay:  Intercept               6052171.0\n",
            "gsr                      -10617.0\n",
            "fgr                        9636.0\n",
            "years_w_team              64010.0\n",
            "current_w_percentage   -2090792.0\n",
            "career_games              -2742.0\n",
            "in_nfl_cnt                83611.0\n",
            "career_w_percentage     1529482.0\n",
            "conf                     -72875.0\n",
            "rank                    -374349.0\n",
            "efficiency               -71994.0\n",
            "fpi                      121580.0\n",
            "capacity                     15.0\n",
            "dtype: float64\n"
          ],
          "name": "stdout"
        }
      ]
    },
    {
      "cell_type": "code",
      "metadata": {
        "id": "2ZqLqkdo2YsW",
        "colab_type": "code",
        "colab": {
          "base_uri": "https://localhost:8080/",
          "height": 464
        },
        "outputId": "773a2ee9-9e0d-44f8-b7b3-5df7e7b5c156"
      },
      "source": [
        "#Print Errors and Plot Results\n",
        "print('Model 1 R-squared: ', r2_score(coach_test['totalpay'], \n",
        "                                      coach_test['predict_totalpay']))\n",
        "print('Model 1 RMSE: ', np.sqrt(mean_squared_error(coach_test['totalpay'], \n",
        "                                                   coach_test['predict_totalpay'])))\n",
        "print('Model 1 MAE: ', mean_absolute_error(coach_test['totalpay'], \n",
        "                                           coach_test['predict_totalpay']))\n",
        "\n",
        "sns.lmplot(x='totalpay', y='predict_totalpay', data=coach_test)\n",
        "_ = plt.title('Model 1 - Actual vs Predicted Total Pay')\n",
        "_ = plt.xlabel('Actual Total Pay')\n",
        "_ = plt.xticks(rotation=45)\n",
        "_ = plt.ylabel('Predicted Total Pay')\n",
        "plt.show()"
      ],
      "execution_count": 205,
      "outputs": [
        {
          "output_type": "stream",
          "text": [
            "Model 1 R-squared:  0.733087370945708\n",
            "Model 1 RMSE:  885038.7862307295\n",
            "Model 1 MAE:  697821.1531499845\n"
          ],
          "name": "stdout"
        },
        {
          "output_type": "display_data",
          "data": {
            "image/png": "[encoded data removed]",
            "text/plain": [
              "<Figure size 360x360 with 1 Axes>"
            ]
          },
          "metadata": {
            "tags": []
          }
        }
      ]
    },
    {
      "cell_type": "code",
      "metadata": {
        "id": "X1Ph1TNgwKPk",
        "colab_type": "code",
        "colab": {
          "base_uri": "https://localhost:8080/",
          "height": 51
        },
        "outputId": "33659639-3530-43ab-a31f-a24e544dc183"
      },
      "source": [
        "#indexing syracuse\n",
        "syracuse = dataset.loc[dataset.school == \"Syracuse\"]\n",
        "\n",
        "#Predicting salary for current position\n",
        "pred_totalpay = lm1_fit.predict(syracuse)\n",
        "#resetting the index\n",
        "pred_totalpay = pred_totalpay.reset_index()\n",
        "#printing the suggested vs. actual salary\n",
        "print(\"Suggested Total Pay for Syracuse Head Coach is \\\n",
        "${:,.2f}\\nActual Total Pay ${:,.2f}\".format(float(pred_totalpay[0]), float(syracuse.totalpay.values[0])))"
      ],
      "execution_count": 206,
      "outputs": [
        {
          "output_type": "stream",
          "text": [
            "Suggested Total Pay for Syracuse Head Coach is $2,371,579.32\n",
            "Actual Total Pay $2,401,206.00\n"
          ],
          "name": "stdout"
        }
      ]
    },
    {
      "cell_type": "markdown",
      "metadata": {
        "id": "rpszDgAF6aJP",
        "colab_type": "text"
      },
      "source": [
        "**Model 2**\n",
        "This time - lets include only the stastically relevant features to see if we can improve the model"
      ]
    },
    {
      "cell_type": "code",
      "metadata": {
        "id": "nvKoQsllwKEJ",
        "colab_type": "code",
        "colab": {
          "base_uri": "https://localhost:8080/",
          "height": 734
        },
        "outputId": "d6b6fe6e-fc82-4296-89c1-92f940d8cd5f"
      },
      "source": [
        "# model includes all features \n",
        "model2 = str('totalpay ~ in_nfl_cnt + conf +  rank +  efficiency +  fpi')\n",
        "# fit the model to the training set\n",
        "lm2 = smf.ols(model2, data = coach_train).fit()\n",
        "# summary of model fit to the training set\n",
        "print(lm2.summary())\n",
        "# training set predictions from the model fit to the training set\n",
        "coach_train['predict_totalpay'] = lm2.fittedvalues\n",
        "\n",
        "# test set predictions from the model fit to the training set\n",
        "coach_test['predict_totalpay'] = lm2.predict(coach_test)"
      ],
      "execution_count": 207,
      "outputs": [
        {
          "output_type": "stream",
          "text": [
            "                            OLS Regression Results                            \n",
            "==============================================================================\n",
            "Dep. Variable:               totalpay   R-squared:                       0.801\n",
            "Model:                            OLS   Adj. R-squared:                  0.788\n",
            "Method:                 Least Squares   F-statistic:                     61.05\n",
            "Date:                Sun, 26 Jan 2020   Prob (F-statistic):           3.24e-25\n",
            "Time:                        08:24:33   Log-Likelihood:                -1239.0\n",
            "No. Observations:                  82   AIC:                             2490.\n",
            "Df Residuals:                      76   BIC:                             2504.\n",
            "Df Model:                           5                                         \n",
            "Covariance Type:            nonrobust                                         \n",
            "==============================================================================\n",
            "                 coef    std err          t      P>|t|      [0.025      0.975]\n",
            "------------------------------------------------------------------------------\n",
            "Intercept   8.887e+06   1.74e+06      5.106      0.000    5.42e+06    1.24e+07\n",
            "in_nfl_cnt  1.025e+05   1.54e+04      6.651      0.000    7.18e+04    1.33e+05\n",
            "conf       -8.076e+04   3.08e+04     -2.622      0.011   -1.42e+05   -1.94e+04\n",
            "rank        -5.85e+05   1.76e+05     -3.325      0.001   -9.35e+05   -2.35e+05\n",
            "efficiency -1.157e+05   2.95e+04     -3.925      0.000   -1.74e+05    -5.7e+04\n",
            "fpi         1.685e+05   4.69e+04      3.594      0.001    7.51e+04    2.62e+05\n",
            "==============================================================================\n",
            "Omnibus:                        4.930   Durbin-Watson:                   2.023\n",
            "Prob(Omnibus):                  0.085   Jarque-Bera (JB):                6.087\n",
            "Skew:                          -0.177   Prob(JB):                       0.0477\n",
            "Kurtosis:                       4.287   Cond. No.                         991.\n",
            "==============================================================================\n",
            "\n",
            "Warnings:\n",
            "[1] Standard Errors assume that the covariance matrix of the errors is correctly specified.\n"
          ],
          "name": "stdout"
        },
        {
          "output_type": "stream",
          "text": [
            "/usr/local/lib/python3.6/dist-packages/ipykernel_launcher.py:7: SettingWithCopyWarning: \n",
            "A value is trying to be set on a copy of a slice from a DataFrame.\n",
            "Try using .loc[row_indexer,col_indexer] = value instead\n",
            "\n",
            "See the caveats in the documentation: http://pandas.pydata.org/pandas-docs/stable/user_guide/indexing.html#returning-a-view-versus-a-copy\n",
            "  import sys\n",
            "/usr/local/lib/python3.6/dist-packages/ipykernel_launcher.py:10: SettingWithCopyWarning: \n",
            "A value is trying to be set on a copy of a slice from a DataFrame.\n",
            "Try using .loc[row_indexer,col_indexer] = value instead\n",
            "\n",
            "See the caveats in the documentation: http://pandas.pydata.org/pandas-docs/stable/user_guide/indexing.html#returning-a-view-versus-a-copy\n",
            "  # Remove the CWD from sys.path while we load stuff.\n"
          ],
          "name": "stderr"
        }
      ]
    },
    {
      "cell_type": "code",
      "metadata": {
        "id": "hKj0M7W6wJvO",
        "colab_type": "code",
        "colab": {
          "base_uri": "https://localhost:8080/",
          "height": 680
        },
        "outputId": "80b49982-5f7b-4103-fab0-74c11e953443"
      },
      "source": [
        "# MODEL\n",
        "# compute the proportion of response variance\n",
        "# accounted for when predicting out-of-sample\n",
        "print('\\nProportion of Test Set Variance Accounted for: ',\\\n",
        "    round(np.power(coach_test['totalpay'].corr(coach_test['predict_totalpay']),2),3))\n",
        "\n",
        "# use the full data set to obtain an estimate of the change in\n",
        "# totalpayance based upon other features\n",
        "lm2_fit = smf.ols(model2, data = dataset).fit()\n",
        "print(lm2_fit.summary())\n",
        "\n",
        "print('\\nEstimated Effect of all features on Total Pay: ',\\\n",
        "    round(lm2_fit.params,0))"
      ],
      "execution_count": 208,
      "outputs": [
        {
          "output_type": "stream",
          "text": [
            "\n",
            "Proportion of Test Set Variance Accounted for:  0.771\n",
            "                            OLS Regression Results                            \n",
            "==============================================================================\n",
            "Dep. Variable:               totalpay   R-squared:                       0.792\n",
            "Model:                            OLS   Adj. R-squared:                  0.782\n",
            "Method:                 Least Squares   F-statistic:                     82.19\n",
            "Date:                Sun, 26 Jan 2020   Prob (F-statistic):           3.38e-35\n",
            "Time:                        08:24:33   Log-Likelihood:                -1720.9\n",
            "No. Observations:                 114   AIC:                             3454.\n",
            "Df Residuals:                     108   BIC:                             3470.\n",
            "Df Model:                           5                                         \n",
            "Covariance Type:            nonrobust                                         \n",
            "==============================================================================\n",
            "                 coef    std err          t      P>|t|      [0.025      0.975]\n",
            "------------------------------------------------------------------------------\n",
            "Intercept   7.811e+06   1.43e+06      5.460      0.000    4.98e+06    1.06e+07\n",
            "in_nfl_cnt  1.014e+05   1.33e+04      7.618      0.000     7.5e+04    1.28e+05\n",
            "conf       -8.675e+04   2.51e+04     -3.462      0.001   -1.36e+05   -3.71e+04\n",
            "rank       -5.217e+05   1.42e+05     -3.662      0.000   -8.04e+05   -2.39e+05\n",
            "efficiency -9.601e+04   2.38e+04     -4.030      0.000   -1.43e+05   -4.88e+04\n",
            "fpi         1.422e+05    3.7e+04      3.845      0.000    6.89e+04    2.15e+05\n",
            "==============================================================================\n",
            "Omnibus:                        3.590   Durbin-Watson:                   2.186\n",
            "Prob(Omnibus):                  0.166   Jarque-Bera (JB):                4.072\n",
            "Skew:                          -0.057   Prob(JB):                        0.131\n",
            "Kurtosis:                       3.919   Cond. No.                         976.\n",
            "==============================================================================\n",
            "\n",
            "Warnings:\n",
            "[1] Standard Errors assume that the covariance matrix of the errors is correctly specified.\n",
            "\n",
            "Estimated Effect of all features on Total Pay:  Intercept     7810833.0\n",
            "in_nfl_cnt     101436.0\n",
            "conf           -86750.0\n",
            "rank          -521724.0\n",
            "efficiency     -96009.0\n",
            "fpi            142183.0\n",
            "dtype: float64\n"
          ],
          "name": "stdout"
        }
      ]
    },
    {
      "cell_type": "code",
      "metadata": {
        "id": "TK21bmik6Ii_",
        "colab_type": "code",
        "colab": {
          "base_uri": "https://localhost:8080/",
          "height": 464
        },
        "outputId": "c91f4308-e1fb-44cc-a939-adf1925d2f8d"
      },
      "source": [
        "#Print Errors and Plot Results\n",
        "print('Model 2 R-squared: ', r2_score(coach_test['totalpay'], \n",
        "                                      coach_test['predict_totalpay']))\n",
        "print('Model 2 RMSE: ', np.sqrt(mean_squared_error(coach_test['totalpay'], \n",
        "                                                   coach_test['predict_totalpay'])))\n",
        "print('Model 2 MAE: ', mean_absolute_error(coach_test['totalpay'], \n",
        "                                           coach_test['predict_totalpay']))\n",
        "\n",
        "sns.lmplot(x='totalpay', y='predict_totalpay', data=coach_test)\n",
        "_ = plt.title('Model 2 - Actual vs Predicted Total Pay')\n",
        "_ = plt.xlabel('Actual Total Pay')\n",
        "_ = plt.xticks(rotation=45)\n",
        "_ = plt.ylabel('Predicted Total Pay')\n",
        "plt.show()"
      ],
      "execution_count": 209,
      "outputs": [
        {
          "output_type": "stream",
          "text": [
            "Model 2 R-squared:  0.7512790359847417\n",
            "Model 2 RMSE:  854346.291109091\n",
            "Model 2 MAE:  690290.407867036\n"
          ],
          "name": "stdout"
        },
        {
          "output_type": "display_data",
          "data": {
            "image/png": "[encoded data removed]",
            "text/plain": [
              "<Figure size 360x360 with 1 Axes>"
            ]
          },
          "metadata": {
            "tags": []
          }
        }
      ]
    },
    {
      "cell_type": "code",
      "metadata": {
        "id": "an7vevVuwJcj",
        "colab_type": "code",
        "colab": {
          "base_uri": "https://localhost:8080/",
          "height": 51
        },
        "outputId": "4f7b1fe8-b4d0-42c8-843b-d61ad483bc47"
      },
      "source": [
        "#indexing syracuse\n",
        "syracuse = dataset.loc[dataset.school == \"Syracuse\"]\n",
        "\n",
        "#Predicting salary for current position\n",
        "pred_totalpay = lm2_fit.predict(syracuse)\n",
        "#resetting the index\n",
        "pred_totalpay = pred_totalpay.reset_index()\n",
        "#printing the suggested vs. actual salary\n",
        "print(\"Suggested Total Pay for Syracuse Head Coach is \\\n",
        "${:,.2f}\\nActual Total Pay ${:,.2f}\".format(float(pred_totalpay[0]), float(syracuse.totalpay.values[0])))"
      ],
      "execution_count": 210,
      "outputs": [
        {
          "output_type": "stream",
          "text": [
            "Suggested Total Pay for Syracuse Head Coach is $2,228,332.09\n",
            "Actual Total Pay $2,401,206.00\n"
          ],
          "name": "stdout"
        }
      ]
    },
    {
      "cell_type": "code",
      "metadata": {
        "id": "7sh7WMOn-4hW",
        "colab_type": "code",
        "colab": {}
      },
      "source": [
        ""
      ],
      "execution_count": 0,
      "outputs": []
    },
    {
      "cell_type": "code",
      "metadata": {
        "id": "bKCENtXb-4Q9",
        "colab_type": "code",
        "colab": {}
      },
      "source": [
        ""
      ],
      "execution_count": 0,
      "outputs": []
    },
    {
      "cell_type": "markdown",
      "metadata": {
        "id": "rusZJtLABGwM",
        "colab_type": "text"
      },
      "source": [
        "**Model 3**\n",
        "Mixed linear model grouped by conference"
      ]
    },
    {
      "cell_type": "code",
      "metadata": {
        "id": "TcHLlDdC-3jr",
        "colab_type": "code",
        "colab": {
          "base_uri": "https://localhost:8080/",
          "height": 581
        },
        "outputId": "2c7425e4-5977-43fd-c5e2-e91198f26e18"
      },
      "source": [
        "# model includes all features \n",
        "model3 = str('totalpay ~ in_nfl_cnt +   rank +  efficiency + fpi + capacity')\n",
        "# fit the model to the training set\n",
        "mxlm = smf.mixedlm(model3, data = coach_train,groups=\"conference\").fit()\n",
        "# summary of model fit to the training set\n",
        "print(mxlm.summary())\n",
        "# training set predictions from the model fit to the training set\n",
        "coach_train['predict_totalpay'] = mxlm.fittedvalues\n",
        "\n",
        "# test set predictions from the model fit to the training set\n",
        "coach_test['predict_totalpay'] = mxlm.predict(coach_test)"
      ],
      "execution_count": 211,
      "outputs": [
        {
          "output_type": "stream",
          "text": [
            "                     Mixed Linear Model Regression Results\n",
            "================================================================================\n",
            "Model:                   MixedLM      Dependent Variable:      totalpay         \n",
            "No. Observations:        82           Method:                  REML             \n",
            "No. Groups:              11           Scale:                   544074761609.7921\n",
            "Min. group size:         3            Likelihood:              -1172.1955       \n",
            "Max. group size:         14           Converged:               Yes              \n",
            "Mean group size:         7.5                                                    \n",
            "--------------------------------------------------------------------------------\n",
            "                    Coef.         Std.Err.    z    P>|z|    [0.025      0.975]  \n",
            "--------------------------------------------------------------------------------\n",
            "Intercept           4545144.999 1673331.390  2.716 0.007 1265475.740 7824814.258\n",
            "in_nfl_cnt            64497.595   16418.043  3.928 0.000   32318.821   96676.368\n",
            "rank                -321960.482  173438.968 -1.856 0.063 -661894.614   17973.650\n",
            "efficiency           -55330.520   27076.301 -2.044 0.041 -108399.095   -2261.945\n",
            "fpi                   81428.996   42830.553  1.901 0.057   -2517.346  165375.338\n",
            "capacity                 12.945       7.139  1.813 0.070      -1.048      26.938\n",
            "conference Var 541735588178.930  494984.013                                     \n",
            "================================================================================\n",
            "\n"
          ],
          "name": "stdout"
        },
        {
          "output_type": "stream",
          "text": [
            "/usr/local/lib/python3.6/dist-packages/ipykernel_launcher.py:7: SettingWithCopyWarning: \n",
            "A value is trying to be set on a copy of a slice from a DataFrame.\n",
            "Try using .loc[row_indexer,col_indexer] = value instead\n",
            "\n",
            "See the caveats in the documentation: http://pandas.pydata.org/pandas-docs/stable/user_guide/indexing.html#returning-a-view-versus-a-copy\n",
            "  import sys\n",
            "/usr/local/lib/python3.6/dist-packages/ipykernel_launcher.py:10: SettingWithCopyWarning: \n",
            "A value is trying to be set on a copy of a slice from a DataFrame.\n",
            "Try using .loc[row_indexer,col_indexer] = value instead\n",
            "\n",
            "See the caveats in the documentation: http://pandas.pydata.org/pandas-docs/stable/user_guide/indexing.html#returning-a-view-versus-a-copy\n",
            "  # Remove the CWD from sys.path while we load stuff.\n"
          ],
          "name": "stderr"
        }
      ]
    },
    {
      "cell_type": "code",
      "metadata": {
        "id": "xYiTT_lLAf4b",
        "colab_type": "code",
        "colab": {
          "base_uri": "https://localhost:8080/",
          "height": 544
        },
        "outputId": "692b5e66-9f67-467c-b623-0ad5961245f6"
      },
      "source": [
        "# MODEL\n",
        "# compute the proportion of response variance\n",
        "# accounted for when predicting out-of-sample\n",
        "print('\\nProportion of Test Set Variance Accounted for: ',\\\n",
        "    round(np.power(coach_test['totalpay'].corr(coach_test['predict_totalpay']),2),3))\n",
        "\n",
        "# use the full data set to obtain an estimate of the change in\n",
        "# totalpayance based upon other features\n",
        "mxlm_fit = smf.mixedlm(model3, data = data,groups=\"conference\").fit()\n",
        "print(mxlm_fit.summary())\n",
        "\n",
        "print('\\nEstimated Effect of all features on Total Pay: ',\\\n",
        "    round(mxlm_fit.params,0))"
      ],
      "execution_count": 212,
      "outputs": [
        {
          "output_type": "stream",
          "text": [
            "\n",
            "Proportion of Test Set Variance Accounted for:  0.735\n",
            "                     Mixed Linear Model Regression Results\n",
            "================================================================================\n",
            "Model:                   MixedLM      Dependent Variable:      totalpay         \n",
            "No. Observations:        114          Method:                  REML             \n",
            "No. Groups:              11           Scale:                   542935670868.2556\n",
            "Min. group size:         6            Likelihood:              -1652.4997       \n",
            "Max. group size:         20           Converged:               Yes              \n",
            "Mean group size:         10.4                                                   \n",
            "--------------------------------------------------------------------------------\n",
            "                    Coef.         Std.Err.    z    P>|z|    [0.025      0.975]  \n",
            "--------------------------------------------------------------------------------\n",
            "Intercept           4059592.628 1378411.564  2.945 0.003 1357955.606 6761229.650\n",
            "in_nfl_cnt            69802.539   14021.544  4.978 0.000   42320.817   97284.260\n",
            "rank                -261232.750  135077.841 -1.934 0.053 -525980.453    3514.953\n",
            "efficiency           -45984.783   21837.670 -2.106 0.035  -88785.830   -3183.735\n",
            "fpi                   71598.558   33583.825  2.132 0.033    5775.470  137421.646\n",
            "capacity                  9.319       5.860  1.590 0.112      -2.167      20.804\n",
            "conference Var 531947134055.428  429111.205                                     \n",
            "================================================================================\n",
            "\n",
            "\n",
            "Estimated Effect of all features on Total Pay:  Intercept         4059593.0\n",
            "in_nfl_cnt          69803.0\n",
            "rank              -261233.0\n",
            "efficiency         -45985.0\n",
            "fpi                 71599.0\n",
            "capacity                9.0\n",
            "conference Var          1.0\n",
            "dtype: float64\n"
          ],
          "name": "stdout"
        }
      ]
    },
    {
      "cell_type": "code",
      "metadata": {
        "id": "UW9rWR0h6V-6",
        "colab_type": "code",
        "colab": {
          "base_uri": "https://localhost:8080/",
          "height": 462
        },
        "outputId": "6f28c415-fd48-4d7d-abdc-0fceb353c08c"
      },
      "source": [
        "#Print Errors and Plot Results\n",
        "print('Model 3 R-squared: ', r2_score(coach_test['totalpay'], \n",
        "                                      coach_test['predict_totalpay']))\n",
        "print('Model 3 RMSE: ', np.sqrt(mean_squared_error(coach_test['totalpay'], \n",
        "                                                   coach_test['predict_totalpay'])))\n",
        "print('Model 3 MAE: ', mean_absolute_error(coach_test['totalpay'], \n",
        "                                           coach_test['predict_totalpay']))\n",
        "\n",
        "sns.lmplot(x='totalpay', y='predict_totalpay', data=coach_test)\n",
        "_ = plt.title('Model 3 - Actual vs Predicted Total Pay')\n",
        "_ = plt.xlabel('Actual Total Pay')\n",
        "_ = plt.xticks(rotation=45)\n",
        "_ = plt.ylabel('Predicted Total Pay')\n",
        "plt.show()"
      ],
      "execution_count": 213,
      "outputs": [
        {
          "output_type": "stream",
          "text": [
            "Model 3 R-squared:  0.7052233570397024\n",
            "Model 3 RMSE:  930088.5041794796\n",
            "Model 3 MAE:  774661.5131787339\n"
          ],
          "name": "stdout"
        },
        {
          "output_type": "display_data",
          "data": {
            "image/png": "[encoded data removed]",
            "text/plain": [
              "<Figure size 360x360 with 1 Axes>"
            ]
          },
          "metadata": {
            "tags": []
          }
        }
      ]
    },
    {
      "cell_type": "code",
      "metadata": {
        "id": "A_rXsO47Aft-",
        "colab_type": "code",
        "colab": {
          "base_uri": "https://localhost:8080/",
          "height": 51
        },
        "outputId": "13f91653-2cb9-4c9a-e44d-02d6be2f602c"
      },
      "source": [
        "#indexing syracuse\n",
        "syracuse = dataset.loc[dataset.school == \"Syracuse\"]\n",
        "\n",
        "#Predicting salary for current position\n",
        "pred_totalpay = mxlm_fit.predict(syracuse)\n",
        "#resetting the index\n",
        "pred_totalpay = pred_totalpay.reset_index()\n",
        "#printing the suggested vs. actual salary\n",
        "print(\"Suggested Total Pay for Syracuse Head Coach is \\\n",
        "${:,.2f}\\nActual Total Pay ${:,.2f}\".format(float(pred_totalpay[0]), float(syracuse.totalpay.values[0])))"
      ],
      "execution_count": 214,
      "outputs": [
        {
          "output_type": "stream",
          "text": [
            "Suggested Total Pay for Syracuse Head Coach is $1,889,962.68\n",
            "Actual Total Pay $2,401,206.00\n"
          ],
          "name": "stdout"
        }
      ]
    },
    {
      "cell_type": "code",
      "metadata": {
        "id": "s5HtoyQuAfcy",
        "colab_type": "code",
        "colab": {}
      },
      "source": [
        ""
      ],
      "execution_count": 0,
      "outputs": []
    },
    {
      "cell_type": "markdown",
      "metadata": {
        "id": "88E5VPTKFtC8",
        "colab_type": "text"
      },
      "source": [
        "**Model 4**\n",
        "Quantile Regression"
      ]
    },
    {
      "cell_type": "code",
      "metadata": {
        "id": "-I5LjHt1Fsqi",
        "colab_type": "code",
        "colab": {}
      },
      "source": [
        ""
      ],
      "execution_count": 0,
      "outputs": []
    },
    {
      "cell_type": "code",
      "metadata": {
        "id": "9Bwd9qOfB_vP",
        "colab_type": "code",
        "colab": {
          "base_uri": "https://localhost:8080/",
          "height": 564
        },
        "outputId": "dc3450ed-26e2-4c2f-a094-202053c2e240"
      },
      "source": [
        "# model includes all features \n",
        "model4 = str('totalpay ~ in_nfl_cnt + conf +  rank +  efficiency +  fpi')\n",
        "# fit the model to the training set\n",
        "qrlm = smf.quantreg(model4, data = coach_train).fit(q=.5)\n",
        "# summary of model fit to the training set\n",
        "print(qrlm.summary())\n",
        "# training set predictions from the model fit to the training set\n",
        "coach_train['predict_totalpay'] = qrlm.fittedvalues\n",
        "\n",
        "# test set predictions from the model fit to the training set\n",
        "coach_test['predict_totalpay'] = qrlm.predict(coach_test)"
      ],
      "execution_count": 240,
      "outputs": [
        {
          "output_type": "stream",
          "text": [
            "                         QuantReg Regression Results                          \n",
            "==============================================================================\n",
            "Dep. Variable:               totalpay   Pseudo R-squared:               0.5457\n",
            "Model:                       QuantReg   Bandwidth:                   8.117e+05\n",
            "Method:                 Least Squares   Sparsity:                    2.105e+06\n",
            "Date:                Sun, 26 Jan 2020   No. Observations:                   82\n",
            "Time:                        08:36:04   Df Residuals:                       77\n",
            "                                        Df Model:                            4\n",
            "==============================================================================\n",
            "                 coef    std err          t      P>|t|      [0.025      0.975]\n",
            "------------------------------------------------------------------------------\n",
            "Intercept   2.875e+06   1.24e+06      2.322      0.023     4.1e+05    5.34e+06\n",
            "in_nfl_cnt  1.165e+05   1.57e+04      7.405      0.000    8.52e+04    1.48e+05\n",
            "conf         -1.3e+05   3.52e+04     -3.687      0.000      -2e+05   -5.98e+04\n",
            "rank        -4.75e+05   2.02e+05     -2.353      0.021   -8.77e+05    -7.3e+04\n",
            "efficiency   816.2006   1.53e+04      0.053      0.958   -2.97e+04    3.13e+04\n",
            "==============================================================================\n"
          ],
          "name": "stdout"
        },
        {
          "output_type": "stream",
          "text": [
            "/usr/local/lib/python3.6/dist-packages/statsmodels/regression/quantile_regression.py:192: IterationLimitWarning: Maximum number of iterations (1000) reached.\n",
            "  \") reached.\", IterationLimitWarning)\n",
            "/usr/local/lib/python3.6/dist-packages/ipykernel_launcher.py:7: SettingWithCopyWarning: \n",
            "A value is trying to be set on a copy of a slice from a DataFrame.\n",
            "Try using .loc[row_indexer,col_indexer] = value instead\n",
            "\n",
            "See the caveats in the documentation: http://pandas.pydata.org/pandas-docs/stable/user_guide/indexing.html#returning-a-view-versus-a-copy\n",
            "  import sys\n",
            "/usr/local/lib/python3.6/dist-packages/ipykernel_launcher.py:10: SettingWithCopyWarning: \n",
            "A value is trying to be set on a copy of a slice from a DataFrame.\n",
            "Try using .loc[row_indexer,col_indexer] = value instead\n",
            "\n",
            "See the caveats in the documentation: http://pandas.pydata.org/pandas-docs/stable/user_guide/indexing.html#returning-a-view-versus-a-copy\n",
            "  # Remove the CWD from sys.path while we load stuff.\n"
          ],
          "name": "stderr"
        }
      ]
    },
    {
      "cell_type": "code",
      "metadata": {
        "id": "uxaHN7J4BTxj",
        "colab_type": "code",
        "colab": {}
      },
      "source": [
        ""
      ],
      "execution_count": 0,
      "outputs": []
    },
    {
      "cell_type": "code",
      "metadata": {
        "colab_type": "code",
        "outputId": "fd12807c-6cb9-4128-8324-3fe7a36df19b",
        "id": "VPJwCMmiBvhN",
        "colab": {
          "base_uri": "https://localhost:8080/",
          "height": 459
        }
      },
      "source": [
        "# MODEL\n",
        "# compute the proportion of response variance\n",
        "# accounted for when predicting out-of-sample\n",
        "print('\\nProportion of Test Set Variance Accounted for: ',\\\n",
        "    round(np.power(coach_test['totalpay'].corr(coach_test['predict_totalpay']),2),3))\n",
        "\n",
        "# use the full data set to obtain an estimate of the change in\n",
        "# totalpayance based upon other features\n",
        "qrlm_fit = smf.quantreg(model4, data = dataset).fit(q=.5)\n",
        "print(qrlm_fit.summary())\n",
        "\n",
        "print('\\nEstimated Effect of all features on Total Pay: ',\\\n",
        "    round(qrlm_fit.params,0))"
      ],
      "execution_count": 241,
      "outputs": [
        {
          "output_type": "stream",
          "text": [
            "\n",
            "Proportion of Test Set Variance Accounted for:  0.767\n",
            "                         QuantReg Regression Results                          \n",
            "==============================================================================\n",
            "Dep. Variable:               totalpay   Pseudo R-squared:               0.5445\n",
            "Model:                       QuantReg   Bandwidth:                   7.680e+05\n",
            "Method:                 Least Squares   Sparsity:                    2.161e+06\n",
            "Date:                Sun, 26 Jan 2020   No. Observations:                  114\n",
            "Time:                        08:36:08   Df Residuals:                      109\n",
            "                                        Df Model:                            4\n",
            "==============================================================================\n",
            "                 coef    std err          t      P>|t|      [0.025      0.975]\n",
            "------------------------------------------------------------------------------\n",
            "Intercept   2.209e+06   1.02e+06      2.164      0.033    1.86e+05    4.23e+06\n",
            "in_nfl_cnt  1.225e+05   1.44e+04      8.516      0.000     9.4e+04    1.51e+05\n",
            "conf       -1.261e+05   3.02e+04     -4.171      0.000   -1.86e+05   -6.62e+04\n",
            "rank       -3.255e+05   1.72e+05     -1.894      0.061   -6.66e+05    1.51e+04\n",
            "efficiency  4031.3229   1.23e+04      0.328      0.743   -2.03e+04    2.84e+04\n",
            "==============================================================================\n",
            "\n",
            "Estimated Effect of all features on Total Pay:  Intercept     2209071.0\n",
            "in_nfl_cnt     122479.0\n",
            "conf          -126065.0\n",
            "rank          -325484.0\n",
            "efficiency       4031.0\n",
            "dtype: float64\n"
          ],
          "name": "stdout"
        }
      ]
    },
    {
      "cell_type": "code",
      "metadata": {
        "id": "Sw8hYrN46dKV",
        "colab_type": "code",
        "colab": {
          "base_uri": "https://localhost:8080/",
          "height": 464
        },
        "outputId": "91ddf77b-fd4c-4022-bf7c-40417400db08"
      },
      "source": [
        "#Print Errors and Plot Results\n",
        "print('Model 4 R-squared: ', r2_score(coach_test['totalpay'], \n",
        "                                      coach_test['predict_totalpay']))\n",
        "print('Model 4 RMSE: ', np.sqrt(mean_squared_error(coach_test['totalpay'], \n",
        "                                                   coach_test['predict_totalpay'])))\n",
        "print('Model 4 MAE: ', mean_absolute_error(coach_test['totalpay'], \n",
        "                                           coach_test['predict_totalpay']))\n",
        "\n",
        "sns.lmplot(x='totalpay', y='predict_totalpay', data=coach_test)\n",
        "_ = plt.title('Model 4 - Actual vs Predicted Total Pay')\n",
        "_ = plt.xlabel('Actual Total Pay')\n",
        "_ = plt.xticks(rotation=45)\n",
        "_ = plt.ylabel('Predicted Total Pay')\n",
        "plt.show()"
      ],
      "execution_count": 242,
      "outputs": [
        {
          "output_type": "stream",
          "text": [
            "Model 4 R-squared:  0.730257950952954\n",
            "Model 4 RMSE:  889717.3678647808\n",
            "Model 4 MAE:  737894.6294061621\n"
          ],
          "name": "stdout"
        },
        {
          "output_type": "display_data",
          "data": {
            "image/png": "[encoded data removed]",
            "text/plain": [
              "<Figure size 360x360 with 1 Axes>"
            ]
          },
          "metadata": {
            "tags": []
          }
        }
      ]
    },
    {
      "cell_type": "code",
      "metadata": {
        "colab_type": "code",
        "outputId": "a2070aaf-1326-4e9a-d8b5-21cfc3f54d05",
        "id": "Sx45-ZDzBvhU",
        "colab": {
          "base_uri": "https://localhost:8080/",
          "height": 51
        }
      },
      "source": [
        "#indexing syracuse\n",
        "syracuse = dataset.loc[dataset.school == \"Syracuse\"]\n",
        "\n",
        "#Predicting salary for current position\n",
        "pred_totalpay = qrlm_fit.predict(syracuse)\n",
        "#resetting the index\n",
        "pred_totalpay = pred_totalpay.reset_index()\n",
        "#printing the suggested vs. actual salary\n",
        "print(\"Suggested Total Pay for Syracuse Head Coach is \\\n",
        "${:,.2f}\\nActual Total Pay ${:,.2f}\".format(float(pred_totalpay[0]), float(syracuse.totalpay.values[0])))"
      ],
      "execution_count": 243,
      "outputs": [
        {
          "output_type": "stream",
          "text": [
            "Suggested Total Pay for Syracuse Head Coach is $1,898,702.78\n",
            "Actual Total Pay $2,401,206.00\n"
          ],
          "name": "stdout"
        }
      ]
    },
    {
      "cell_type": "code",
      "metadata": {
        "id": "ut0vSnI4BTWe",
        "colab_type": "code",
        "colab": {}
      },
      "source": [
        ""
      ],
      "execution_count": 0,
      "outputs": []
    },
    {
      "cell_type": "markdown",
      "metadata": {
        "id": "GOFReFWbOB0J",
        "colab_type": "text"
      },
      "source": [
        "**Syracuse switching to BIG 10 school**"
      ]
    },
    {
      "cell_type": "code",
      "metadata": {
        "id": "OyqgfdprF_zI",
        "colab_type": "code",
        "colab": {
          "base_uri": "https://localhost:8080/",
          "height": 241
        },
        "outputId": "1e5b6d56-44a0-44e6-8859-a4ac0c5a4a9c"
      },
      "source": [
        "#indexing syracuse\n",
        "syracuse = dataset.loc[dataset.school == \"Syracuse\"]\n",
        "syracuse.conference = \"Big Ten\"\n",
        "#syracuse.in_nfl_cnt = 100\n",
        "#syracuse.fpi = 15\n",
        "\n",
        "print(syracuse)\n",
        "\n",
        "#Predicting salary for current position\n",
        "pred_totalpay = lm2_fit.predict(syracuse)\n",
        "#resetting the index\n",
        "pred_totalpay = pred_totalpay.reset_index()\n",
        "#printing the suggested vs. actual salary\n",
        "print(\"Suggested Total Pay for Syracuse Head Coach is \\\n",
        "${:,.2f}\\nActual Total Pay ${:,.2f}\".format(float(pred_totalpay[0]), float(syracuse.totalpay.values[0])))"
      ],
      "execution_count": 244,
      "outputs": [
        {
          "output_type": "stream",
          "text": [
            "       school conference        coach  ...  fpi  capacity  runiform\n",
            "111  Syracuse    Big Ten  Dino Babers  ... -1.6   49250.0  0.746063\n",
            "\n",
            "[1 rows x 18 columns]\n",
            "Suggested Total Pay for Syracuse Head Coach is $2,228,332.09\n",
            "Actual Total Pay $2,401,206.00\n"
          ],
          "name": "stdout"
        },
        {
          "output_type": "stream",
          "text": [
            "/usr/local/lib/python3.6/dist-packages/pandas/core/generic.py:5208: SettingWithCopyWarning: \n",
            "A value is trying to be set on a copy of a slice from a DataFrame.\n",
            "Try using .loc[row_indexer,col_indexer] = value instead\n",
            "\n",
            "See the caveats in the documentation: http://pandas.pydata.org/pandas-docs/stable/user_guide/indexing.html#returning-a-view-versus-a-copy\n",
            "  self[name] = value\n"
          ],
          "name": "stderr"
        }
      ]
    },
    {
      "cell_type": "code",
      "metadata": {
        "id": "7zM0uF_ZG6vL",
        "colab_type": "code",
        "colab": {}
      },
      "source": [
        ""
      ],
      "execution_count": 0,
      "outputs": []
    },
    {
      "cell_type": "markdown",
      "metadata": {
        "id": "tNtkggpyG8JX",
        "colab_type": "text"
      },
      "source": [
        "**Removing Conference from the model**"
      ]
    },
    {
      "cell_type": "code",
      "metadata": {
        "id": "eUgHFxpqF7Ds",
        "colab_type": "code",
        "colab": {
          "base_uri": "https://localhost:8080/",
          "height": 564
        },
        "outputId": "db302e19-db56-40d4-c92a-45bba301fd7e"
      },
      "source": [
        "# model includes all features \n",
        "model5 = str('totalpay ~ in_nfl_cnt +   rank +  efficiency +  fpi')\n",
        "# fit the model to the training set\n",
        "lm5 = smf.quantreg(model5, data = coach_train).fit()\n",
        "# summary of model fit to the training set\n",
        "print(lm5.summary())\n",
        "# training set predictions from the model fit to the training set\n",
        "coach_train['predict_totalpay'] = lm5.fittedvalues\n",
        "\n",
        "# test set predictions from the model fit to the training set\n",
        "coach_test['predict_totalpay'] = lm5.predict(coach_test)"
      ],
      "execution_count": 229,
      "outputs": [
        {
          "output_type": "stream",
          "text": [
            "                         QuantReg Regression Results                          \n",
            "==============================================================================\n",
            "Dep. Variable:               totalpay   Pseudo R-squared:               0.5346\n",
            "Model:                       QuantReg   Bandwidth:                   1.116e+06\n",
            "Method:                 Least Squares   Sparsity:                    2.620e+06\n",
            "Date:                Sun, 26 Jan 2020   No. Observations:                   82\n",
            "Time:                        08:31:59   Df Residuals:                       77\n",
            "                                        Df Model:                            4\n",
            "==============================================================================\n",
            "                 coef    std err          t      P>|t|      [0.025      0.975]\n",
            "------------------------------------------------------------------------------\n",
            "Intercept   9.582e+06   2.49e+06      3.855      0.000    4.63e+06    1.45e+07\n",
            "in_nfl_cnt  8.708e+04   2.19e+04      3.983      0.000    4.35e+04    1.31e+05\n",
            "rank       -6.819e+05   2.51e+05     -2.716      0.008   -1.18e+06   -1.82e+05\n",
            "efficiency  -1.29e+05    4.2e+04     -3.073      0.003   -2.13e+05   -4.54e+04\n",
            "fpi         1.952e+05   6.68e+04      2.925      0.005    6.23e+04    3.28e+05\n",
            "==============================================================================\n"
          ],
          "name": "stdout"
        },
        {
          "output_type": "stream",
          "text": [
            "/usr/local/lib/python3.6/dist-packages/statsmodels/regression/quantile_regression.py:192: IterationLimitWarning: Maximum number of iterations (1000) reached.\n",
            "  \") reached.\", IterationLimitWarning)\n",
            "/usr/local/lib/python3.6/dist-packages/ipykernel_launcher.py:7: SettingWithCopyWarning: \n",
            "A value is trying to be set on a copy of a slice from a DataFrame.\n",
            "Try using .loc[row_indexer,col_indexer] = value instead\n",
            "\n",
            "See the caveats in the documentation: http://pandas.pydata.org/pandas-docs/stable/user_guide/indexing.html#returning-a-view-versus-a-copy\n",
            "  import sys\n",
            "/usr/local/lib/python3.6/dist-packages/ipykernel_launcher.py:10: SettingWithCopyWarning: \n",
            "A value is trying to be set on a copy of a slice from a DataFrame.\n",
            "Try using .loc[row_indexer,col_indexer] = value instead\n",
            "\n",
            "See the caveats in the documentation: http://pandas.pydata.org/pandas-docs/stable/user_guide/indexing.html#returning-a-view-versus-a-copy\n",
            "  # Remove the CWD from sys.path while we load stuff.\n"
          ],
          "name": "stderr"
        }
      ]
    },
    {
      "cell_type": "code",
      "metadata": {
        "colab_type": "code",
        "outputId": "09e979c2-5d67-409c-bc10-32aed3943c40",
        "id": "FEs2iZVUGBZ8",
        "colab": {
          "base_uri": "https://localhost:8080/",
          "height": 646
        }
      },
      "source": [
        "# MODEL\n",
        "# compute the proportion of response variance\n",
        "# accounted for when predicting out-of-sample\n",
        "print('\\nProportion of Test Set Variance Accounted for: ',\\\n",
        "    round(np.power(coach_test['totalpay'].corr(coach_test['predict_totalpay']),2),3))\n",
        "\n",
        "# use the full data set to obtain an estimate of the change in\n",
        "# totalpayance based upon other features\n",
        "lm5_fit = smf.ols(model5, data = dataset).fit()\n",
        "print(lm5_fit.summary())\n",
        "\n",
        "print('\\nEstimated Effect of all features on Total Pay: ',\\\n",
        "    round(lm5_fit.params,0))"
      ],
      "execution_count": 230,
      "outputs": [
        {
          "output_type": "stream",
          "text": [
            "\n",
            "Proportion of Test Set Variance Accounted for:  0.726\n",
            "                            OLS Regression Results                            \n",
            "==============================================================================\n",
            "Dep. Variable:               totalpay   R-squared:                       0.769\n",
            "Model:                            OLS   Adj. R-squared:                  0.760\n",
            "Method:                 Least Squares   F-statistic:                     90.61\n",
            "Date:                Sun, 26 Jan 2020   Prob (F-statistic):           9.35e-34\n",
            "Time:                        08:32:07   Log-Likelihood:                -1726.9\n",
            "No. Observations:                 114   AIC:                             3464.\n",
            "Df Residuals:                     109   BIC:                             3477.\n",
            "Df Model:                           4                                         \n",
            "Covariance Type:            nonrobust                                         \n",
            "==============================================================================\n",
            "                 coef    std err          t      P>|t|      [0.025      0.975]\n",
            "------------------------------------------------------------------------------\n",
            "Intercept   7.735e+06    1.5e+06      5.154      0.000    4.76e+06    1.07e+07\n",
            "in_nfl_cnt  9.875e+04   1.39e+04      7.080      0.000    7.11e+04    1.26e+05\n",
            "rank        -5.46e+05   1.49e+05     -3.657      0.000   -8.42e+05    -2.5e+05\n",
            "efficiency -1.006e+05    2.5e+04     -4.032      0.000    -1.5e+05   -5.12e+04\n",
            "fpi         1.495e+05   3.87e+04      3.860      0.000    7.28e+04    2.26e+05\n",
            "==============================================================================\n",
            "Omnibus:                        1.921   Durbin-Watson:                   2.089\n",
            "Prob(Omnibus):                  0.383   Jarque-Bera (JB):                1.540\n",
            "Skew:                           0.008   Prob(JB):                        0.463\n",
            "Kurtosis:                       3.569   Cond. No.                         973.\n",
            "==============================================================================\n",
            "\n",
            "Warnings:\n",
            "[1] Standard Errors assume that the covariance matrix of the errors is correctly specified.\n",
            "\n",
            "Estimated Effect of all features on Total Pay:  Intercept     7735443.0\n",
            "in_nfl_cnt      98747.0\n",
            "rank          -545960.0\n",
            "efficiency    -100625.0\n",
            "fpi            149537.0\n",
            "dtype: float64\n"
          ],
          "name": "stdout"
        }
      ]
    },
    {
      "cell_type": "code",
      "metadata": {
        "colab_type": "code",
        "outputId": "10670010-d961-4521-91ad-e6f5a66b6cf6",
        "id": "qQYS-K2FGBaA",
        "colab": {
          "base_uri": "https://localhost:8080/",
          "height": 51
        }
      },
      "source": [
        "#indexing syracuse\n",
        "syracuse = dataset.loc[dataset.school == \"Syracuse\"]\n",
        "\n",
        "#Predicting salary for current position\n",
        "pred_totalpay = lm5_fit.predict(syracuse)\n",
        "#resetting the index\n",
        "pred_totalpay = pred_totalpay.reset_index()\n",
        "#printing the suggested vs. actual salary\n",
        "print(\"Suggested Total Pay for Syracuse Head Coach is \\\n",
        "${:,.2f}\\nActual Total Pay ${:,.2f}\".format(float(pred_totalpay[0]), float(syracuse.totalpay.values[0])))"
      ],
      "execution_count": 231,
      "outputs": [
        {
          "output_type": "stream",
          "text": [
            "Suggested Total Pay for Syracuse Head Coach is $1,855,957.63\n",
            "Actual Total Pay $2,401,206.00\n"
          ],
          "name": "stdout"
        }
      ]
    },
    {
      "cell_type": "markdown",
      "metadata": {
        "id": "kMD_Wg2FnFah",
        "colab_type": "text"
      },
      "source": [
        "**Big East**"
      ]
    },
    {
      "cell_type": "code",
      "metadata": {
        "id": "wYGt1AtcRJUX",
        "colab_type": "code",
        "colab": {}
      },
      "source": [
        "#Create a list of big east schools only\n",
        "big_east_list = ['Cincinnati','UConn','Louisville','Pittsburgh','Rutgers','South Florida','Boston College']"
      ],
      "execution_count": 0,
      "outputs": []
    },
    {
      "cell_type": "code",
      "metadata": {
        "id": "4u9bzzzTldjm",
        "colab_type": "code",
        "colab": {
          "base_uri": "https://localhost:8080/",
          "height": 139
        },
        "outputId": "91b03ba0-ad2d-4da2-f5e0-6f8daba73f34"
      },
      "source": [
        "#create a new dataset, training and test set\n",
        "big_east_dataset = dataset[dataset[\"school\"].isin(big_east_list)]\n",
        "big_east_dataset.conference = 'Big East'\n",
        "big_east_dataset.conf = 1\n",
        "\n",
        "#training\n",
        "big_east_coach_train = coach_train[coach_train[\"school\"].isin(big_east_list)]\n",
        "big_east_coach_train.conference = 'Big East'\n",
        "big_east_coach_train.conf = 1\n",
        "\n",
        "#test\n",
        "big_east_coach_test = coach_test[coach_test[\"school\"].isin(big_east_list)]\n",
        "big_east_coach_test.conference = 'Big East'\n",
        "big_east_coach_test.conf = 1\n"
      ],
      "execution_count": 233,
      "outputs": [
        {
          "output_type": "stream",
          "text": [
            "/usr/local/lib/python3.6/dist-packages/pandas/core/generic.py:5208: SettingWithCopyWarning: \n",
            "A value is trying to be set on a copy of a slice from a DataFrame.\n",
            "Try using .loc[row_indexer,col_indexer] = value instead\n",
            "\n",
            "See the caveats in the documentation: http://pandas.pydata.org/pandas-docs/stable/user_guide/indexing.html#returning-a-view-versus-a-copy\n",
            "  self[name] = value\n"
          ],
          "name": "stderr"
        }
      ]
    },
    {
      "cell_type": "code",
      "metadata": {
        "colab_type": "code",
        "outputId": "dd610c5a-fde0-48e6-d7cf-b2b2fccad088",
        "id": "4dxtgMmKf5mA",
        "colab": {
          "base_uri": "https://localhost:8080/",
          "height": 921
        }
      },
      "source": [
        "# model includes all features \n",
        "model6 = str('totalpay ~ in_nfl_cnt +  rank + conf +  efficiency +  fpi')\n",
        "# fit the model to the training set\n",
        "big_east_model = smf.ols(model6, data = big_east_coach_train).fit()\n",
        "# summary of model fit to the training set\n",
        "print(big_east_model.summary())\n",
        "# training set predictions from the model fit to the training set\n",
        "big_east_coach_train['predict_totalpay'] = big_east_model.fittedvalues\n",
        "\n",
        "# test set predictions from the model fit to the training set\n",
        "big_east_coach_test['predict_totalpay'] = big_east_model.predict(big_east_coach_test)"
      ],
      "execution_count": 234,
      "outputs": [
        {
          "output_type": "stream",
          "text": [
            "                            OLS Regression Results                            \n",
            "==============================================================================\n",
            "Dep. Variable:               totalpay   R-squared:                       1.000\n",
            "Model:                            OLS   Adj. R-squared:                    nan\n",
            "Method:                 Least Squares   F-statistic:                     0.000\n",
            "Date:                Sun, 26 Jan 2020   Prob (F-statistic):                nan\n",
            "Time:                        08:32:27   Log-Likelihood:                 66.042\n",
            "No. Observations:                   4   AIC:                            -124.1\n",
            "Df Residuals:                       0   BIC:                            -126.5\n",
            "Df Model:                           3                                         \n",
            "Covariance Type:            nonrobust                                         \n",
            "==============================================================================\n",
            "                 coef    std err          t      P>|t|      [0.025      0.975]\n",
            "------------------------------------------------------------------------------\n",
            "Intercept  -1.527e+05        inf         -0        nan         nan         nan\n",
            "in_nfl_cnt  5.066e+05        inf          0        nan         nan         nan\n",
            "rank       -8.208e+05        inf         -0        nan         nan         nan\n",
            "conf       -1.527e+05        inf         -0        nan         nan         nan\n",
            "efficiency -2.594e+04        inf         -0        nan         nan         nan\n",
            "fpi        -3.488e+04        inf         -0        nan         nan         nan\n",
            "==============================================================================\n",
            "Omnibus:                          nan   Durbin-Watson:                   1.463\n",
            "Prob(Omnibus):                    nan   Jarque-Bera (JB):                0.493\n",
            "Skew:                           0.738   Prob(JB):                        0.781\n",
            "Kurtosis:                       2.117   Cond. No.                         158.\n",
            "==============================================================================\n",
            "\n",
            "Warnings:\n",
            "[1] Standard Errors assume that the covariance matrix of the errors is correctly specified.\n",
            "[2] The input rank is higher than the number of observations.\n"
          ],
          "name": "stdout"
        },
        {
          "output_type": "stream",
          "text": [
            "/usr/local/lib/python3.6/dist-packages/statsmodels/stats/stattools.py:71: ValueWarning: omni_normtest is not valid with less than 8 observations; 4 samples were given.\n",
            "  \"samples were given.\" % int(n), ValueWarning)\n",
            "/usr/local/lib/python3.6/dist-packages/statsmodels/regression/linear_model.py:1648: RuntimeWarning: divide by zero encountered in true_divide\n",
            "  return 1 - (np.divide(self.nobs - self.k_constant, self.df_resid)\n",
            "/usr/local/lib/python3.6/dist-packages/statsmodels/regression/linear_model.py:1649: RuntimeWarning: invalid value encountered in double_scalars\n",
            "  * (1 - self.rsquared))\n",
            "/usr/local/lib/python3.6/dist-packages/statsmodels/regression/linear_model.py:1665: RuntimeWarning: divide by zero encountered in double_scalars\n",
            "  return self.ssr/self.df_resid\n",
            "/usr/local/lib/python3.6/dist-packages/statsmodels/regression/linear_model.py:1578: RuntimeWarning: divide by zero encountered in double_scalars\n",
            "  return np.dot(wresid, wresid) / self.df_resid\n",
            "/usr/local/lib/python3.6/dist-packages/ipykernel_launcher.py:7: SettingWithCopyWarning: \n",
            "A value is trying to be set on a copy of a slice from a DataFrame.\n",
            "Try using .loc[row_indexer,col_indexer] = value instead\n",
            "\n",
            "See the caveats in the documentation: http://pandas.pydata.org/pandas-docs/stable/user_guide/indexing.html#returning-a-view-versus-a-copy\n",
            "  import sys\n",
            "/usr/local/lib/python3.6/dist-packages/ipykernel_launcher.py:10: SettingWithCopyWarning: \n",
            "A value is trying to be set on a copy of a slice from a DataFrame.\n",
            "Try using .loc[row_indexer,col_indexer] = value instead\n",
            "\n",
            "See the caveats in the documentation: http://pandas.pydata.org/pandas-docs/stable/user_guide/indexing.html#returning-a-view-versus-a-copy\n",
            "  # Remove the CWD from sys.path while we load stuff.\n"
          ],
          "name": "stderr"
        }
      ]
    },
    {
      "cell_type": "code",
      "metadata": {
        "colab_type": "code",
        "outputId": "3a3d3cad-fde6-4ec2-e83a-a4535a4045b6",
        "id": "naRcOdBhfODU",
        "colab": {
          "base_uri": "https://localhost:8080/",
          "height": 680
        }
      },
      "source": [
        "# MODEL\n",
        "# compute the proportion of response variance\n",
        "# accounted for when predicting out-of-sample\n",
        "print('\\nProportion of Test Set Variance Accounted for: ',\\\n",
        "    round(np.power(big_east_coach_test['totalpay'].corr(big_east_coach_test['predict_totalpay']),2),3))\n",
        "\n",
        "# use the full data set to obtain an estimate of the change in\n",
        "# totalpayance based upon other features\n",
        "big_east_model_fit = smf.ols(model6, data = dataset).fit()\n",
        "print(big_east_model_fit.summary())\n",
        "\n",
        "print('\\nEstimated Effect of all features on Total Pay: ',\\\n",
        "    round(big_east_model_fit.params,0))"
      ],
      "execution_count": 238,
      "outputs": [
        {
          "output_type": "stream",
          "text": [
            "\n",
            "Proportion of Test Set Variance Accounted for:  1.0\n",
            "                            OLS Regression Results                            \n",
            "==============================================================================\n",
            "Dep. Variable:               totalpay   R-squared:                       0.792\n",
            "Model:                            OLS   Adj. R-squared:                  0.782\n",
            "Method:                 Least Squares   F-statistic:                     82.19\n",
            "Date:                Sun, 26 Jan 2020   Prob (F-statistic):           3.38e-35\n",
            "Time:                        08:34:27   Log-Likelihood:                -1720.9\n",
            "No. Observations:                 114   AIC:                             3454.\n",
            "Df Residuals:                     108   BIC:                             3470.\n",
            "Df Model:                           5                                         \n",
            "Covariance Type:            nonrobust                                         \n",
            "==============================================================================\n",
            "                 coef    std err          t      P>|t|      [0.025      0.975]\n",
            "------------------------------------------------------------------------------\n",
            "Intercept   7.811e+06   1.43e+06      5.460      0.000    4.98e+06    1.06e+07\n",
            "in_nfl_cnt  1.014e+05   1.33e+04      7.618      0.000     7.5e+04    1.28e+05\n",
            "rank       -5.217e+05   1.42e+05     -3.662      0.000   -8.04e+05   -2.39e+05\n",
            "conf       -8.675e+04   2.51e+04     -3.462      0.001   -1.36e+05   -3.71e+04\n",
            "efficiency -9.601e+04   2.38e+04     -4.030      0.000   -1.43e+05   -4.88e+04\n",
            "fpi         1.422e+05    3.7e+04      3.845      0.000    6.89e+04    2.15e+05\n",
            "==============================================================================\n",
            "Omnibus:                        3.590   Durbin-Watson:                   2.186\n",
            "Prob(Omnibus):                  0.166   Jarque-Bera (JB):                4.072\n",
            "Skew:                          -0.057   Prob(JB):                        0.131\n",
            "Kurtosis:                       3.919   Cond. No.                         976.\n",
            "==============================================================================\n",
            "\n",
            "Warnings:\n",
            "[1] Standard Errors assume that the covariance matrix of the errors is correctly specified.\n",
            "\n",
            "Estimated Effect of all features on Total Pay:  Intercept     7810833.0\n",
            "in_nfl_cnt     101436.0\n",
            "rank          -521724.0\n",
            "conf           -86750.0\n",
            "efficiency     -96009.0\n",
            "fpi            142183.0\n",
            "dtype: float64\n"
          ],
          "name": "stdout"
        }
      ]
    },
    {
      "cell_type": "code",
      "metadata": {
        "id": "cSEsK81daxas",
        "colab_type": "code",
        "colab": {
          "base_uri": "https://localhost:8080/",
          "height": 241
        },
        "outputId": "d5bdd18b-74bb-40d3-c87a-b11bdba90e93"
      },
      "source": [
        "#indexing syracuse\n",
        "syracuse = dataset.loc[dataset.school == \"Syracuse\"]\n",
        "syracuse.conference = 'Big East'\n",
        "\n",
        "print(syracuse)\n",
        "\n",
        "#Predicting salary for current position\n",
        "pred_totalpay = big_east_model_fit.predict(syracuse)\n",
        "#resetting the index\n",
        "pred_totalpay = pred_totalpay.reset_index()\n",
        "#printing the suggested vs. actual salary\n",
        "print(\"Suggested Total Pay for Syracuse Head Coach is \\\n",
        "${:,.2f}\\nActual Total Pay ${:,.2f}\".format(float(pred_totalpay[0]), float(syracuse.totalpay.values[0])))"
      ],
      "execution_count": 239,
      "outputs": [
        {
          "output_type": "stream",
          "text": [
            "       school conference        coach  ...  fpi  capacity  runiform\n",
            "111  Syracuse   Big East  Dino Babers  ... -1.6   49250.0  0.746063\n",
            "\n",
            "[1 rows x 18 columns]\n",
            "Suggested Total Pay for Syracuse Head Coach is $2,228,332.09\n",
            "Actual Total Pay $2,401,206.00\n"
          ],
          "name": "stdout"
        },
        {
          "output_type": "stream",
          "text": [
            "/usr/local/lib/python3.6/dist-packages/pandas/core/generic.py:5208: SettingWithCopyWarning: \n",
            "A value is trying to be set on a copy of a slice from a DataFrame.\n",
            "Try using .loc[row_indexer,col_indexer] = value instead\n",
            "\n",
            "See the caveats in the documentation: http://pandas.pydata.org/pandas-docs/stable/user_guide/indexing.html#returning-a-view-versus-a-copy\n",
            "  self[name] = value\n"
          ],
          "name": "stderr"
        }
      ]
    },
    {
      "cell_type": "code",
      "metadata": {
        "id": "colhu4XLdm1e",
        "colab_type": "code",
        "colab": {}
      },
      "source": [
        ""
      ],
      "execution_count": 0,
      "outputs": []
    }
  ]
}